{
 "cells": [
  {
   "cell_type": "code",
   "execution_count": 1,
   "id": "7deb51c5-7e6a-40db-9e94-e415037d24f2",
   "metadata": {},
   "outputs": [],
   "source": [
    "import pandas as pd\n",
    "import numpy as np\n",
    "import matplotlib.pyplot as plt\n",
    "import seaborn as sns\n",
    "%matplotlib inline"
   ]
  },
  {
   "cell_type": "code",
   "execution_count": 2,
   "id": "30938642-0547-412c-88d1-5f53a6b059e0",
   "metadata": {},
   "outputs": [],
   "source": [
    "df = pd.read_excel('cleaned_df.xlsx')"
   ]
  },
  {
   "cell_type": "code",
   "execution_count": 3,
   "id": "e2852c87-3ff6-4f6a-a78f-7cc3205b5135",
   "metadata": {},
   "outputs": [],
   "source": [
    "df.drop('Unnamed: 0', axis = 1, inplace = True)"
   ]
  },
  {
   "cell_type": "code",
   "execution_count": 4,
   "id": "5a5bd143-0711-4c37-bcd8-fde4a1e2ac25",
   "metadata": {
    "scrolled": true
   },
   "outputs": [
    {
     "data": {
      "text/html": [
       "<div>\n",
       "<style scoped>\n",
       "    .dataframe tbody tr th:only-of-type {\n",
       "        vertical-align: middle;\n",
       "    }\n",
       "\n",
       "    .dataframe tbody tr th {\n",
       "        vertical-align: top;\n",
       "    }\n",
       "\n",
       "    .dataframe thead th {\n",
       "        text-align: right;\n",
       "    }\n",
       "</style>\n",
       "<table border=\"1\" class=\"dataframe\">\n",
       "  <thead>\n",
       "    <tr style=\"text-align: right;\">\n",
       "      <th></th>\n",
       "      <th>Store</th>\n",
       "      <th>Dept</th>\n",
       "      <th>Date</th>\n",
       "      <th>Weekly_Sales</th>\n",
       "      <th>IsHoliday</th>\n",
       "      <th>Temperature</th>\n",
       "      <th>Fuel_Price</th>\n",
       "      <th>MarkDown1</th>\n",
       "      <th>MarkDown2</th>\n",
       "      <th>MarkDown3</th>\n",
       "      <th>...</th>\n",
       "      <th>MarkDown5</th>\n",
       "      <th>CPI</th>\n",
       "      <th>Unemployment</th>\n",
       "      <th>Type</th>\n",
       "      <th>Size</th>\n",
       "      <th>year</th>\n",
       "      <th>week</th>\n",
       "      <th>Type_A</th>\n",
       "      <th>Type_B</th>\n",
       "      <th>Type_C</th>\n",
       "    </tr>\n",
       "  </thead>\n",
       "  <tbody>\n",
       "    <tr>\n",
       "      <th>0</th>\n",
       "      <td>1</td>\n",
       "      <td>1</td>\n",
       "      <td>2010-02-05</td>\n",
       "      <td>24924.50</td>\n",
       "      <td>0</td>\n",
       "      <td>42.31</td>\n",
       "      <td>2.572</td>\n",
       "      <td>0.0</td>\n",
       "      <td>0.0</td>\n",
       "      <td>0.0</td>\n",
       "      <td>...</td>\n",
       "      <td>0.0</td>\n",
       "      <td>211.096358</td>\n",
       "      <td>8.106</td>\n",
       "      <td>A</td>\n",
       "      <td>151315</td>\n",
       "      <td>2010</td>\n",
       "      <td>5</td>\n",
       "      <td>1</td>\n",
       "      <td>0</td>\n",
       "      <td>0</td>\n",
       "    </tr>\n",
       "    <tr>\n",
       "      <th>1</th>\n",
       "      <td>1</td>\n",
       "      <td>1</td>\n",
       "      <td>2010-02-12</td>\n",
       "      <td>46039.49</td>\n",
       "      <td>1</td>\n",
       "      <td>38.51</td>\n",
       "      <td>2.548</td>\n",
       "      <td>0.0</td>\n",
       "      <td>0.0</td>\n",
       "      <td>0.0</td>\n",
       "      <td>...</td>\n",
       "      <td>0.0</td>\n",
       "      <td>211.242170</td>\n",
       "      <td>8.106</td>\n",
       "      <td>A</td>\n",
       "      <td>151315</td>\n",
       "      <td>2010</td>\n",
       "      <td>6</td>\n",
       "      <td>1</td>\n",
       "      <td>0</td>\n",
       "      <td>0</td>\n",
       "    </tr>\n",
       "    <tr>\n",
       "      <th>2</th>\n",
       "      <td>1</td>\n",
       "      <td>1</td>\n",
       "      <td>2010-02-19</td>\n",
       "      <td>41595.55</td>\n",
       "      <td>0</td>\n",
       "      <td>39.93</td>\n",
       "      <td>2.514</td>\n",
       "      <td>0.0</td>\n",
       "      <td>0.0</td>\n",
       "      <td>0.0</td>\n",
       "      <td>...</td>\n",
       "      <td>0.0</td>\n",
       "      <td>211.289143</td>\n",
       "      <td>8.106</td>\n",
       "      <td>A</td>\n",
       "      <td>151315</td>\n",
       "      <td>2010</td>\n",
       "      <td>7</td>\n",
       "      <td>1</td>\n",
       "      <td>0</td>\n",
       "      <td>0</td>\n",
       "    </tr>\n",
       "    <tr>\n",
       "      <th>3</th>\n",
       "      <td>1</td>\n",
       "      <td>1</td>\n",
       "      <td>2010-02-26</td>\n",
       "      <td>19403.54</td>\n",
       "      <td>0</td>\n",
       "      <td>46.63</td>\n",
       "      <td>2.561</td>\n",
       "      <td>0.0</td>\n",
       "      <td>0.0</td>\n",
       "      <td>0.0</td>\n",
       "      <td>...</td>\n",
       "      <td>0.0</td>\n",
       "      <td>211.319643</td>\n",
       "      <td>8.106</td>\n",
       "      <td>A</td>\n",
       "      <td>151315</td>\n",
       "      <td>2010</td>\n",
       "      <td>8</td>\n",
       "      <td>1</td>\n",
       "      <td>0</td>\n",
       "      <td>0</td>\n",
       "    </tr>\n",
       "    <tr>\n",
       "      <th>4</th>\n",
       "      <td>1</td>\n",
       "      <td>1</td>\n",
       "      <td>2010-03-05</td>\n",
       "      <td>21827.90</td>\n",
       "      <td>0</td>\n",
       "      <td>46.50</td>\n",
       "      <td>2.625</td>\n",
       "      <td>0.0</td>\n",
       "      <td>0.0</td>\n",
       "      <td>0.0</td>\n",
       "      <td>...</td>\n",
       "      <td>0.0</td>\n",
       "      <td>211.350143</td>\n",
       "      <td>8.106</td>\n",
       "      <td>A</td>\n",
       "      <td>151315</td>\n",
       "      <td>2010</td>\n",
       "      <td>9</td>\n",
       "      <td>1</td>\n",
       "      <td>0</td>\n",
       "      <td>0</td>\n",
       "    </tr>\n",
       "  </tbody>\n",
       "</table>\n",
       "<p>5 rows × 21 columns</p>\n",
       "</div>"
      ],
      "text/plain": [
       "   Store  Dept       Date  Weekly_Sales  IsHoliday  Temperature  Fuel_Price  \\\n",
       "0      1     1 2010-02-05      24924.50          0        42.31       2.572   \n",
       "1      1     1 2010-02-12      46039.49          1        38.51       2.548   \n",
       "2      1     1 2010-02-19      41595.55          0        39.93       2.514   \n",
       "3      1     1 2010-02-26      19403.54          0        46.63       2.561   \n",
       "4      1     1 2010-03-05      21827.90          0        46.50       2.625   \n",
       "\n",
       "   MarkDown1  MarkDown2  MarkDown3  ...  MarkDown5         CPI  Unemployment  \\\n",
       "0        0.0        0.0        0.0  ...        0.0  211.096358         8.106   \n",
       "1        0.0        0.0        0.0  ...        0.0  211.242170         8.106   \n",
       "2        0.0        0.0        0.0  ...        0.0  211.289143         8.106   \n",
       "3        0.0        0.0        0.0  ...        0.0  211.319643         8.106   \n",
       "4        0.0        0.0        0.0  ...        0.0  211.350143         8.106   \n",
       "\n",
       "   Type    Size  year  week  Type_A  Type_B  Type_C  \n",
       "0     A  151315  2010     5       1       0       0  \n",
       "1     A  151315  2010     6       1       0       0  \n",
       "2     A  151315  2010     7       1       0       0  \n",
       "3     A  151315  2010     8       1       0       0  \n",
       "4     A  151315  2010     9       1       0       0  \n",
       "\n",
       "[5 rows x 21 columns]"
      ]
     },
     "execution_count": 4,
     "metadata": {},
     "output_type": "execute_result"
    }
   ],
   "source": [
    "df.head()"
   ]
  },
  {
   "cell_type": "code",
   "execution_count": 5,
   "id": "ee94bfa7-4179-42b0-8d8d-aae9906c650a",
   "metadata": {
    "scrolled": true
   },
   "outputs": [
    {
     "name": "stdout",
     "output_type": "stream",
     "text": [
      "<class 'pandas.core.frame.DataFrame'>\n",
      "RangeIndex: 421570 entries, 0 to 421569\n",
      "Data columns (total 21 columns):\n",
      " #   Column        Non-Null Count   Dtype         \n",
      "---  ------        --------------   -----         \n",
      " 0   Store         421570 non-null  int64         \n",
      " 1   Dept          421570 non-null  int64         \n",
      " 2   Date          421570 non-null  datetime64[ns]\n",
      " 3   Weekly_Sales  421570 non-null  float64       \n",
      " 4   IsHoliday     421570 non-null  int64         \n",
      " 5   Temperature   421570 non-null  float64       \n",
      " 6   Fuel_Price    421570 non-null  float64       \n",
      " 7   MarkDown1     421570 non-null  float64       \n",
      " 8   MarkDown2     421570 non-null  float64       \n",
      " 9   MarkDown3     421570 non-null  float64       \n",
      " 10  MarkDown4     421570 non-null  float64       \n",
      " 11  MarkDown5     421570 non-null  float64       \n",
      " 12  CPI           421570 non-null  float64       \n",
      " 13  Unemployment  421570 non-null  float64       \n",
      " 14  Type          421570 non-null  object        \n",
      " 15  Size          421570 non-null  int64         \n",
      " 16  year          421570 non-null  int64         \n",
      " 17  week          421570 non-null  int64         \n",
      " 18  Type_A        421570 non-null  int64         \n",
      " 19  Type_B        421570 non-null  int64         \n",
      " 20  Type_C        421570 non-null  int64         \n",
      "dtypes: datetime64[ns](1), float64(10), int64(9), object(1)\n",
      "memory usage: 67.5+ MB\n"
     ]
    }
   ],
   "source": [
    "df.info()"
   ]
  },
  {
   "cell_type": "markdown",
   "id": "78f02f10-ed10-4613-a2cd-94628336ffe0",
   "metadata": {},
   "source": [
    "## Statistical Analysis"
   ]
  },
  {
   "cell_type": "markdown",
   "id": "8757c26c-dcab-4281-941f-334990b853c4",
   "metadata": {},
   "source": [
    "We have 3 types of stores; Type-A, Type-B, and Type-C. We want to check if the weekly sales are significantly different among all groups. For this we will be using ANOVA technique to compare that if the average weekly sales for the groups are significantly different."
   ]
  },
  {
   "cell_type": "code",
   "execution_count": 8,
   "id": "2a0359bb-6888-4a34-be90-ddc701303a2b",
   "metadata": {},
   "outputs": [],
   "source": [
    "type_A_sales = df[df['Type']=='A']['Weekly_Sales']\n",
    "type_B_sales = df[df['Type']=='B']['Weekly_Sales']\n",
    "type_C_sales = df[df['Type']=='C']['Weekly_Sales']"
   ]
  },
  {
   "cell_type": "code",
   "execution_count": 9,
   "id": "ea338db1-5203-4d62-8bc8-8b45be5aa3ca",
   "metadata": {},
   "outputs": [
    {
     "data": {
      "text/plain": [
       "F_onewayResult(statistic=7764.426217449252, pvalue=0.0)"
      ]
     },
     "execution_count": 9,
     "metadata": {},
     "output_type": "execute_result"
    }
   ],
   "source": [
    "# one way anova testing\n",
    "from scipy.stats import f_oneway\n",
    "\n",
    "f_oneway(type_A_sales,type_B_sales, type_C_sales)"
   ]
  },
  {
   "cell_type": "markdown",
   "id": "20adab4e-4f4d-43b2-83bf-b7ee85432b36",
   "metadata": {},
   "source": [
    "`p-value = 0.0 < 0.05` which indicates that the average weekly sales are statistically significant different for each store type. Atleast one group mean is significantly different from others. We can apply tukey's test to check by which groups means the null hypothesis (means for all groups are same) was rejected and to also observe which group means are significantly different"
   ]
  },
  {
   "cell_type": "code",
   "execution_count": 11,
   "id": "2cb1631f-ba69-49f9-9561-6b3d292c1cd4",
   "metadata": {},
   "outputs": [
    {
     "name": "stdout",
     "output_type": "stream",
     "text": [
      "     Multiple Comparison of Means - Tukey HSD, FWER=0.05      \n",
      "==============================================================\n",
      "group1 group2   meandiff  p-adj    lower       upper    reject\n",
      "--------------------------------------------------------------\n",
      "     A      B  -7862.4921   0.0  -8033.9424  -7691.0417   True\n",
      "     A      C -10580.0355   0.0 -10857.2206 -10302.8504   True\n",
      "     B      C  -2717.5434   0.0  -3001.9088  -2433.1781   True\n",
      "--------------------------------------------------------------\n"
     ]
    }
   ],
   "source": [
    "# Tukey's test\n",
    "\n",
    "from statsmodels.stats.multicomp import pairwise_tukeyhsd\n",
    "\n",
    "tukey = pairwise_tukeyhsd(endog=df['Weekly_Sales'], groups=df['Type'], alpha=0.05)\n",
    "\n",
    "print(tukey)"
   ]
  },
  {
   "cell_type": "markdown",
   "id": "a1c213a0-2e75-4418-bfcc-8f11316830f4",
   "metadata": {},
   "source": [
    "The output of Tukey's test shows that the  difference of average weekly sales for each pair of groups is statistically significantly different and average weekly sales is not same for any two groups."
   ]
  },
  {
   "cell_type": "markdown",
   "id": "8986bdb8-da1a-412c-b29c-c7d5acfe6f84",
   "metadata": {},
   "source": [
    "Previously we saw that the departments 92, 95 and 38 had the most weekly sales, so it would be interesting to see if the average weekly sales are statistically different or not for these departments.\n",
    "\n",
    "First, I would compare the average weekly sales for departments 92 and 95 as these two are the top 2 departments and we will do this by using t-test. For the comparsion for all top 3 departments we will use anova technique as we did above."
   ]
  },
  {
   "cell_type": "code",
   "execution_count": 14,
   "id": "43e44ba3-04db-4ebe-acad-5d9b50c5fb89",
   "metadata": {},
   "outputs": [
    {
     "name": "stdout",
     "output_type": "stream",
     "text": [
      "T statistic: 6.9104\n",
      "P-value: 0.0000\n"
     ]
    }
   ],
   "source": [
    "# t test to check department 92 and 95 weekly sales difference\n",
    "dept_92 = df[df['Dept'] == 92]['Weekly_Sales']\n",
    "dept_95 = df[df['Dept'] == 95]['Weekly_Sales']\n",
    "dept_38 = df[df['Dept'] == 38]['Weekly_Sales']\n",
    "\n",
    "from scipy.stats import ttest_ind\n",
    "\n",
    "t_stat, p_val = ttest_ind(dept_92, dept_95, equal_var = False)\n",
    "\n",
    "print(f\"T statistic: {t_stat:.4f}\\nP-value: {p_val:.4f}\")"
   ]
  },
  {
   "cell_type": "markdown",
   "id": "e54f460a-6535-43c6-804e-87cbf7525905",
   "metadata": {},
   "source": [
    "So t statistic value is very far from the zero and p-value is also less than 0.05 so we conlude that the average weekly sales for departments 92 and 95 are statistically significantly different."
   ]
  },
  {
   "cell_type": "code",
   "execution_count": 16,
   "id": "806efe31-4e3e-4abf-817d-d0e670d54861",
   "metadata": {},
   "outputs": [
    {
     "data": {
      "text/plain": [
       "F_onewayResult(statistic=218.87100647431365, pvalue=1.0170824511315987e-94)"
      ]
     },
     "execution_count": 16,
     "metadata": {},
     "output_type": "execute_result"
    }
   ],
   "source": [
    "# anova testing to compare top3 departments\n",
    "f_oneway(dept_92, dept_95, dept_38)"
   ]
  },
  {
   "cell_type": "markdown",
   "id": "275e9ba5-ec88-42c0-9aed-573ecaa49abd",
   "metadata": {},
   "source": [
    "p-value is very quite small which indicates that the average weekly sales are statistically significantly different for all top 3 departments."
   ]
  },
  {
   "cell_type": "code",
   "execution_count": 18,
   "id": "e576587a-f2be-494b-9eb0-bba7d1e9d052",
   "metadata": {},
   "outputs": [
    {
     "name": "stdout",
     "output_type": "stream",
     "text": [
      "    Multiple Comparison of Means - Tukey HSD, FWER=0.05    \n",
      "===========================================================\n",
      "group1 group2  meandiff  p-adj   lower      upper    reject\n",
      "-----------------------------------------------------------\n",
      "    38     92  14114.251   0.0 12518.2533 15710.2486   True\n",
      "    38     95  8733.8035   0.0  7137.8058 10329.8012   True\n",
      "    92     95 -5380.4475   0.0 -6976.4451 -3784.4498   True\n",
      "-----------------------------------------------------------\n"
     ]
    }
   ],
   "source": [
    "# Tukey's test\n",
    "\n",
    "from statsmodels.stats.multicomp import pairwise_tukeyhsd\n",
    "\n",
    "top_departs_df = df[df['Dept'].isin([92, 95, 38])]\n",
    "\n",
    "tukey = pairwise_tukeyhsd(endog=top_departs_df['Weekly_Sales'], groups=top_departs_df['Dept'], alpha=0.05)\n",
    "\n",
    "print(tukey)"
   ]
  },
  {
   "cell_type": "markdown",
   "id": "8c2f62b3-0341-426d-9936-e66b55edd705",
   "metadata": {},
   "source": [
    "Tukey test also suggests that average sales difference for each department is also statistically different from each other."
   ]
  },
  {
   "cell_type": "markdown",
   "id": "9938f5ed-95a5-466e-9589-a907ee7676d6",
   "metadata": {},
   "source": [
    "We are also interested to see whether the weekly sales are statistically different in holiday weeks and non holiday weeks and in other words we are checking whether holiday weeks significantly impact sales or not. Let's do this."
   ]
  },
  {
   "cell_type": "code",
   "execution_count": 21,
   "id": "33a98290-06dd-4c7e-afda-0f7e1bad41cd",
   "metadata": {},
   "outputs": [
    {
     "name": "stdout",
     "output_type": "stream",
     "text": [
      "T statistic: 7.0007\n",
      "P-value: 0.0000\n"
     ]
    }
   ],
   "source": [
    "holiday_sales = df[df['IsHoliday'] == 1]['Weekly_Sales']\n",
    "non_holiday_sales = df[df['IsHoliday'] == 0]['Weekly_Sales']\n",
    "\n",
    "# t test to check average weekly sales for holiday weeks and non holiday weeks\n",
    "\n",
    "t_stat, p_val = ttest_ind(holiday_sales, non_holiday_sales, equal_var = False)\n",
    "\n",
    "print(f\"T statistic: {t_stat:.4f}\\nP-value: {p_val:.4f}\")"
   ]
  },
  {
   "cell_type": "markdown",
   "id": "4f0800f6-7342-40ff-b204-948ab1a4e057",
   "metadata": {},
   "source": [
    "Average weekly sales for holiday weeks and non holiday weeks are statistically different."
   ]
  },
  {
   "cell_type": "markdown",
   "id": "69ad0d38-7c84-44b8-8d1d-46df4584307d",
   "metadata": {},
   "source": [
    "## K means Clustering:\n",
    "\n",
    "K means clustering will be a great way to group similar stores based on sales patterns, sizes and other features and would be useful to understand more about stores performance patterns."
   ]
  },
  {
   "cell_type": "markdown",
   "id": "d3a8dbee-6638-450b-84bd-17291dbe0f11",
   "metadata": {},
   "source": [
    "First we aggregate store level featuures."
   ]
  },
  {
   "cell_type": "code",
   "execution_count": 25,
   "id": "b9097486-fd6c-479d-9752-7fca3a52c211",
   "metadata": {},
   "outputs": [],
   "source": [
    "store_features = df.groupby('Store').agg({\n",
    "    'Weekly_Sales': 'mean',\n",
    "    'Size': 'first',  # constant per store\n",
    "    'CPI': 'mean',\n",
    "    'Unemployment': 'mean',\n",
    "    'Fuel_Price': 'mean'\n",
    "}).reset_index()\n",
    "\n",
    "store_features.rename(columns={'Weekly_Sales': 'Avg_Weekly_Sales'}, inplace=True)"
   ]
  },
  {
   "cell_type": "code",
   "execution_count": 26,
   "id": "75463329-f305-4065-8db2-a26a09da7dc0",
   "metadata": {},
   "outputs": [
    {
     "data": {
      "text/html": [
       "<div>\n",
       "<style scoped>\n",
       "    .dataframe tbody tr th:only-of-type {\n",
       "        vertical-align: middle;\n",
       "    }\n",
       "\n",
       "    .dataframe tbody tr th {\n",
       "        vertical-align: top;\n",
       "    }\n",
       "\n",
       "    .dataframe thead th {\n",
       "        text-align: right;\n",
       "    }\n",
       "</style>\n",
       "<table border=\"1\" class=\"dataframe\">\n",
       "  <thead>\n",
       "    <tr style=\"text-align: right;\">\n",
       "      <th></th>\n",
       "      <th>Store</th>\n",
       "      <th>Avg_Weekly_Sales</th>\n",
       "      <th>Size</th>\n",
       "      <th>CPI</th>\n",
       "      <th>Unemployment</th>\n",
       "      <th>Fuel_Price</th>\n",
       "    </tr>\n",
       "  </thead>\n",
       "  <tbody>\n",
       "    <tr>\n",
       "      <th>0</th>\n",
       "      <td>1</td>\n",
       "      <td>21710.543621</td>\n",
       "      <td>151315</td>\n",
       "      <td>215.995525</td>\n",
       "      <td>7.610918</td>\n",
       "      <td>3.218811</td>\n",
       "    </tr>\n",
       "    <tr>\n",
       "      <th>1</th>\n",
       "      <td>2</td>\n",
       "      <td>26898.070031</td>\n",
       "      <td>202307</td>\n",
       "      <td>215.651869</td>\n",
       "      <td>7.623279</td>\n",
       "      <td>3.219898</td>\n",
       "    </tr>\n",
       "    <tr>\n",
       "      <th>2</th>\n",
       "      <td>3</td>\n",
       "      <td>6373.033983</td>\n",
       "      <td>37392</td>\n",
       "      <td>219.402843</td>\n",
       "      <td>7.175602</td>\n",
       "      <td>3.219112</td>\n",
       "    </tr>\n",
       "    <tr>\n",
       "      <th>3</th>\n",
       "      <td>4</td>\n",
       "      <td>29161.210415</td>\n",
       "      <td>205863</td>\n",
       "      <td>128.680070</td>\n",
       "      <td>6.011862</td>\n",
       "      <td>3.216237</td>\n",
       "    </tr>\n",
       "    <tr>\n",
       "      <th>4</th>\n",
       "      <td>5</td>\n",
       "      <td>5053.415813</td>\n",
       "      <td>34875</td>\n",
       "      <td>216.576516</td>\n",
       "      <td>6.296549</td>\n",
       "      <td>3.220912</td>\n",
       "    </tr>\n",
       "  </tbody>\n",
       "</table>\n",
       "</div>"
      ],
      "text/plain": [
       "   Store  Avg_Weekly_Sales    Size         CPI  Unemployment  Fuel_Price\n",
       "0      1      21710.543621  151315  215.995525      7.610918    3.218811\n",
       "1      2      26898.070031  202307  215.651869      7.623279    3.219898\n",
       "2      3       6373.033983   37392  219.402843      7.175602    3.219112\n",
       "3      4      29161.210415  205863  128.680070      6.011862    3.216237\n",
       "4      5       5053.415813   34875  216.576516      6.296549    3.220912"
      ]
     },
     "execution_count": 26,
     "metadata": {},
     "output_type": "execute_result"
    }
   ],
   "source": [
    "store_features.head()"
   ]
  },
  {
   "cell_type": "code",
   "execution_count": 27,
   "id": "c968ae53-1498-4743-9877-b561e4c3e782",
   "metadata": {},
   "outputs": [],
   "source": [
    "# normalize the features as it is important for the k means clustering\n",
    "from sklearn.preprocessing import StandardScaler\n",
    "\n",
    "features_to_scale = ['Avg_Weekly_Sales', 'Size', 'CPI', 'Unemployment', 'Fuel_Price']\n",
    "scaler = StandardScaler()\n",
    "scaled_features = scaler.fit_transform(store_features[features_to_scale])"
   ]
  },
  {
   "cell_type": "markdown",
   "id": "ee4ef345-81f2-4760-9c66-d6c223b3a21c",
   "metadata": {},
   "source": [
    "**Choosing K by elbow method:**"
   ]
  },
  {
   "cell_type": "code",
   "execution_count": 29,
   "id": "c0e4390f-b5e5-42ce-9826-c73699522c1c",
   "metadata": {},
   "outputs": [
    {
     "name": "stderr",
     "output_type": "stream",
     "text": [
      "C:\\Users\\PMLS\\anaconda3\\Lib\\site-packages\\sklearn\\cluster\\_kmeans.py:1446: UserWarning: KMeans is known to have a memory leak on Windows with MKL, when there are less chunks than available threads. You can avoid it by setting the environment variable OMP_NUM_THREADS=1.\n",
      "  warnings.warn(\n",
      "C:\\Users\\PMLS\\anaconda3\\Lib\\site-packages\\sklearn\\cluster\\_kmeans.py:1446: UserWarning: KMeans is known to have a memory leak on Windows with MKL, when there are less chunks than available threads. You can avoid it by setting the environment variable OMP_NUM_THREADS=1.\n",
      "  warnings.warn(\n",
      "C:\\Users\\PMLS\\anaconda3\\Lib\\site-packages\\sklearn\\cluster\\_kmeans.py:1446: UserWarning: KMeans is known to have a memory leak on Windows with MKL, when there are less chunks than available threads. You can avoid it by setting the environment variable OMP_NUM_THREADS=1.\n",
      "  warnings.warn(\n",
      "C:\\Users\\PMLS\\anaconda3\\Lib\\site-packages\\sklearn\\cluster\\_kmeans.py:1446: UserWarning: KMeans is known to have a memory leak on Windows with MKL, when there are less chunks than available threads. You can avoid it by setting the environment variable OMP_NUM_THREADS=1.\n",
      "  warnings.warn(\n",
      "C:\\Users\\PMLS\\anaconda3\\Lib\\site-packages\\sklearn\\cluster\\_kmeans.py:1446: UserWarning: KMeans is known to have a memory leak on Windows with MKL, when there are less chunks than available threads. You can avoid it by setting the environment variable OMP_NUM_THREADS=1.\n",
      "  warnings.warn(\n",
      "C:\\Users\\PMLS\\anaconda3\\Lib\\site-packages\\sklearn\\cluster\\_kmeans.py:1446: UserWarning: KMeans is known to have a memory leak on Windows with MKL, when there are less chunks than available threads. You can avoid it by setting the environment variable OMP_NUM_THREADS=1.\n",
      "  warnings.warn(\n",
      "C:\\Users\\PMLS\\anaconda3\\Lib\\site-packages\\sklearn\\cluster\\_kmeans.py:1446: UserWarning: KMeans is known to have a memory leak on Windows with MKL, when there are less chunks than available threads. You can avoid it by setting the environment variable OMP_NUM_THREADS=1.\n",
      "  warnings.warn(\n",
      "C:\\Users\\PMLS\\anaconda3\\Lib\\site-packages\\sklearn\\cluster\\_kmeans.py:1446: UserWarning: KMeans is known to have a memory leak on Windows with MKL, when there are less chunks than available threads. You can avoid it by setting the environment variable OMP_NUM_THREADS=1.\n",
      "  warnings.warn(\n",
      "C:\\Users\\PMLS\\anaconda3\\Lib\\site-packages\\sklearn\\cluster\\_kmeans.py:1446: UserWarning: KMeans is known to have a memory leak on Windows with MKL, when there are less chunks than available threads. You can avoid it by setting the environment variable OMP_NUM_THREADS=1.\n",
      "  warnings.warn(\n",
      "C:\\Users\\PMLS\\anaconda3\\Lib\\site-packages\\sklearn\\cluster\\_kmeans.py:1446: UserWarning: KMeans is known to have a memory leak on Windows with MKL, when there are less chunks than available threads. You can avoid it by setting the environment variable OMP_NUM_THREADS=1.\n",
      "  warnings.warn(\n"
     ]
    }
   ],
   "source": [
    "from sklearn.cluster import KMeans\n",
    "import matplotlib.pyplot as plt\n",
    "\n",
    "wcss = []  # Within-Cluster Sum of Squares\n",
    "\n",
    "# Try different values of k\n",
    "for k in range(1, 11):\n",
    "    kmeans = KMeans(n_clusters=k, random_state=42)\n",
    "    kmeans.fit(scaled_features)\n",
    "    wcss.append(kmeans.inertia_)  # .inertia_ = total WCSS"
   ]
  },
  {
   "cell_type": "code",
   "execution_count": 30,
   "id": "5b10bce9-8e7b-4303-8344-1b7241e4e94a",
   "metadata": {},
   "outputs": [
    {
     "data": {
      "image/png": "[encoded data removed]",
      "text/plain": [
       "<Figure size 800x500 with 1 Axes>"
      ]
     },
     "metadata": {},
     "output_type": "display_data"
    }
   ],
   "source": [
    "# plot the elbow curve\n",
    "plt.figure(figsize=(8, 5))\n",
    "plt.plot(range(1, 11), wcss, marker='o')\n",
    "plt.xlabel('Number of Clusters (k)')\n",
    "plt.ylabel('WCSS (Inertia)')\n",
    "plt.title('Elbow Method for Optimal k')\n",
    "plt.grid(True)\n",
    "plt.show()"
   ]
  },
  {
   "cell_type": "markdown",
   "id": "92cdbc50-c2b6-45c6-af99-93f0768000d1",
   "metadata": {},
   "source": [
    "From the graph we can see k=3 is appropriate because at k=3 the pattern of line changes"
   ]
  },
  {
   "cell_type": "code",
   "execution_count": 32,
   "id": "038e9bbf-0d88-4f49-8786-706b4aec543e",
   "metadata": {},
   "outputs": [
    {
     "name": "stderr",
     "output_type": "stream",
     "text": [
      "C:\\Users\\PMLS\\anaconda3\\Lib\\site-packages\\sklearn\\cluster\\_kmeans.py:1446: UserWarning: KMeans is known to have a memory leak on Windows with MKL, when there are less chunks than available threads. You can avoid it by setting the environment variable OMP_NUM_THREADS=1.\n",
      "  warnings.warn(\n"
     ]
    }
   ],
   "source": [
    "kmeans = KMeans(n_clusters=3, random_state=42)  # Try 3 clusters first\n",
    "store_features['Cluster'] = kmeans.fit_predict(scaled_features)"
   ]
  },
  {
   "cell_type": "code",
   "execution_count": 33,
   "id": "a92944de-3dcd-4285-8fee-4ddb5fcb145f",
   "metadata": {},
   "outputs": [],
   "source": [
    "store_features['Cluster'] = store_features['Cluster'] + 1"
   ]
  },
  {
   "cell_type": "code",
   "execution_count": 34,
   "id": "1322ff77-26a5-4cc4-81c4-c6979b10ab15",
   "metadata": {},
   "outputs": [
    {
     "data": {
      "text/html": [
       "<div>\n",
       "<style scoped>\n",
       "    .dataframe tbody tr th:only-of-type {\n",
       "        vertical-align: middle;\n",
       "    }\n",
       "\n",
       "    .dataframe tbody tr th {\n",
       "        vertical-align: top;\n",
       "    }\n",
       "\n",
       "    .dataframe thead th {\n",
       "        text-align: right;\n",
       "    }\n",
       "</style>\n",
       "<table border=\"1\" class=\"dataframe\">\n",
       "  <thead>\n",
       "    <tr style=\"text-align: right;\">\n",
       "      <th></th>\n",
       "      <th>Store</th>\n",
       "      <th>Avg_Weekly_Sales</th>\n",
       "      <th>Size</th>\n",
       "      <th>CPI</th>\n",
       "      <th>Unemployment</th>\n",
       "      <th>Fuel_Price</th>\n",
       "      <th>Cluster</th>\n",
       "    </tr>\n",
       "  </thead>\n",
       "  <tbody>\n",
       "    <tr>\n",
       "      <th>0</th>\n",
       "      <td>1</td>\n",
       "      <td>21710.543621</td>\n",
       "      <td>151315</td>\n",
       "      <td>215.995525</td>\n",
       "      <td>7.610918</td>\n",
       "      <td>3.218811</td>\n",
       "      <td>2</td>\n",
       "    </tr>\n",
       "    <tr>\n",
       "      <th>1</th>\n",
       "      <td>2</td>\n",
       "      <td>26898.070031</td>\n",
       "      <td>202307</td>\n",
       "      <td>215.651869</td>\n",
       "      <td>7.623279</td>\n",
       "      <td>3.219898</td>\n",
       "      <td>2</td>\n",
       "    </tr>\n",
       "    <tr>\n",
       "      <th>2</th>\n",
       "      <td>3</td>\n",
       "      <td>6373.033983</td>\n",
       "      <td>37392</td>\n",
       "      <td>219.402843</td>\n",
       "      <td>7.175602</td>\n",
       "      <td>3.219112</td>\n",
       "      <td>3</td>\n",
       "    </tr>\n",
       "    <tr>\n",
       "      <th>3</th>\n",
       "      <td>4</td>\n",
       "      <td>29161.210415</td>\n",
       "      <td>205863</td>\n",
       "      <td>128.680070</td>\n",
       "      <td>6.011862</td>\n",
       "      <td>3.216237</td>\n",
       "      <td>2</td>\n",
       "    </tr>\n",
       "    <tr>\n",
       "      <th>4</th>\n",
       "      <td>5</td>\n",
       "      <td>5053.415813</td>\n",
       "      <td>34875</td>\n",
       "      <td>216.576516</td>\n",
       "      <td>6.296549</td>\n",
       "      <td>3.220912</td>\n",
       "      <td>3</td>\n",
       "    </tr>\n",
       "  </tbody>\n",
       "</table>\n",
       "</div>"
      ],
      "text/plain": [
       "   Store  Avg_Weekly_Sales    Size         CPI  Unemployment  Fuel_Price  \\\n",
       "0      1      21710.543621  151315  215.995525      7.610918    3.218811   \n",
       "1      2      26898.070031  202307  215.651869      7.623279    3.219898   \n",
       "2      3       6373.033983   37392  219.402843      7.175602    3.219112   \n",
       "3      4      29161.210415  205863  128.680070      6.011862    3.216237   \n",
       "4      5       5053.415813   34875  216.576516      6.296549    3.220912   \n",
       "\n",
       "   Cluster  \n",
       "0        2  \n",
       "1        2  \n",
       "2        3  \n",
       "3        2  \n",
       "4        3  "
      ]
     },
     "execution_count": 34,
     "metadata": {},
     "output_type": "execute_result"
    }
   ],
   "source": [
    "store_features.head()"
   ]
  },
  {
   "cell_type": "markdown",
   "id": "98539707-2742-444d-b6de-014465bd0e97",
   "metadata": {},
   "source": [
    "We have clustered the stores into 3 clusters"
   ]
  },
  {
   "cell_type": "code",
   "execution_count": 36,
   "id": "1c221848-abd4-46fd-9db7-6e47f26a0560",
   "metadata": {},
   "outputs": [
    {
     "data": {
      "text/html": [
       "<div>\n",
       "<style scoped>\n",
       "    .dataframe tbody tr th:only-of-type {\n",
       "        vertical-align: middle;\n",
       "    }\n",
       "\n",
       "    .dataframe tbody tr th {\n",
       "        vertical-align: top;\n",
       "    }\n",
       "\n",
       "    .dataframe thead th {\n",
       "        text-align: right;\n",
       "    }\n",
       "</style>\n",
       "<table border=\"1\" class=\"dataframe\">\n",
       "  <thead>\n",
       "    <tr style=\"text-align: right;\">\n",
       "      <th></th>\n",
       "      <th>Store</th>\n",
       "      <th>Avg_Weekly_Sales</th>\n",
       "      <th>Size</th>\n",
       "      <th>CPI</th>\n",
       "      <th>Unemployment</th>\n",
       "      <th>Fuel_Price</th>\n",
       "    </tr>\n",
       "    <tr>\n",
       "      <th>Cluster</th>\n",
       "      <th></th>\n",
       "      <th></th>\n",
       "      <th></th>\n",
       "      <th></th>\n",
       "      <th></th>\n",
       "      <th></th>\n",
       "    </tr>\n",
       "  </thead>\n",
       "  <tbody>\n",
       "    <tr>\n",
       "      <th>1</th>\n",
       "      <td>26.850000</td>\n",
       "      <td>14842.486566</td>\n",
       "      <td>126443.100000</td>\n",
       "      <td>135.687833</td>\n",
       "      <td>8.450356</td>\n",
       "      <td>3.494895</td>\n",
       "    </tr>\n",
       "    <tr>\n",
       "      <th>2</th>\n",
       "      <td>17.833333</td>\n",
       "      <td>23301.534848</td>\n",
       "      <td>198411.500000</td>\n",
       "      <td>194.920391</td>\n",
       "      <td>7.425240</td>\n",
       "      <td>3.261891</td>\n",
       "    </tr>\n",
       "    <tr>\n",
       "      <th>3</th>\n",
       "      <td>21.846154</td>\n",
       "      <td>9095.845212</td>\n",
       "      <td>73318.615385</td>\n",
       "      <td>205.309044</td>\n",
       "      <td>7.360473</td>\n",
       "      <td>3.245516</td>\n",
       "    </tr>\n",
       "  </tbody>\n",
       "</table>\n",
       "</div>"
      ],
      "text/plain": [
       "             Store  Avg_Weekly_Sales           Size         CPI  Unemployment  \\\n",
       "Cluster                                                                         \n",
       "1        26.850000      14842.486566  126443.100000  135.687833      8.450356   \n",
       "2        17.833333      23301.534848  198411.500000  194.920391      7.425240   \n",
       "3        21.846154       9095.845212   73318.615385  205.309044      7.360473   \n",
       "\n",
       "         Fuel_Price  \n",
       "Cluster              \n",
       "1          3.494895  \n",
       "2          3.261891  \n",
       "3          3.245516  "
      ]
     },
     "execution_count": 36,
     "metadata": {},
     "output_type": "execute_result"
    }
   ],
   "source": [
    "# interpret clusters\n",
    "store_features.groupby('Cluster').mean()"
   ]
  },
  {
   "cell_type": "markdown",
   "id": "741e8cb8-2fb4-44fb-8ae1-ade698850df6",
   "metadata": {},
   "source": [
    "Cluster 2 has the highest average weekly sales"
   ]
  },
  {
   "cell_type": "code",
   "execution_count": 38,
   "id": "ef128593-ee13-409f-828a-799504a5faad",
   "metadata": {},
   "outputs": [
    {
     "data": {
      "text/html": [
       "<div>\n",
       "<style scoped>\n",
       "    .dataframe tbody tr th:only-of-type {\n",
       "        vertical-align: middle;\n",
       "    }\n",
       "\n",
       "    .dataframe tbody tr th {\n",
       "        vertical-align: top;\n",
       "    }\n",
       "\n",
       "    .dataframe thead th {\n",
       "        text-align: right;\n",
       "    }\n",
       "</style>\n",
       "<table border=\"1\" class=\"dataframe\">\n",
       "  <thead>\n",
       "    <tr style=\"text-align: right;\">\n",
       "      <th></th>\n",
       "      <th>Cluster</th>\n",
       "      <th>Store</th>\n",
       "    </tr>\n",
       "  </thead>\n",
       "  <tbody>\n",
       "    <tr>\n",
       "      <th>0</th>\n",
       "      <td>1</td>\n",
       "      <td>20</td>\n",
       "    </tr>\n",
       "    <tr>\n",
       "      <th>1</th>\n",
       "      <td>2</td>\n",
       "      <td>12</td>\n",
       "    </tr>\n",
       "    <tr>\n",
       "      <th>2</th>\n",
       "      <td>3</td>\n",
       "      <td>13</td>\n",
       "    </tr>\n",
       "  </tbody>\n",
       "</table>\n",
       "</div>"
      ],
      "text/plain": [
       "   Cluster  Store\n",
       "0        1     20\n",
       "1        2     12\n",
       "2        3     13"
      ]
     },
     "execution_count": 38,
     "metadata": {},
     "output_type": "execute_result"
    }
   ],
   "source": [
    "store_features.groupby('Cluster')['Store'].count().reset_index()"
   ]
  },
  {
   "cell_type": "markdown",
   "id": "b57142c5-9430-4137-a9a4-5ace37bc8ea7",
   "metadata": {},
   "source": [
    "Cluster 1 has the most stores"
   ]
  },
  {
   "cell_type": "markdown",
   "id": "4d94c03c-f96b-4320-8948-4c09e9d3e5dd",
   "metadata": {},
   "source": [
    "K means clustering was done just for the purpose of the practice and how to implement in python but yes it can be used here to understand store segmentation and to group similar stores just as i did but i will not be including any results of k means clustering analysis in the report of analysis.\n",
    "\n",
    "___"
   ]
  },
  {
   "cell_type": "code",
   "execution_count": null,
   "id": "dbb6706d-c936-4a64-8908-0f3b7ffee0fc",
   "metadata": {},
   "outputs": [],
   "source": []
  }
 ],
 "metadata": {
  "kernelspec": {
   "display_name": "Python 3 (ipykernel)",
   "language": "python",
   "name": "python3"
  },
  "language_info": {
   "codemirror_mode": {
    "name": "ipython",
    "version": 3
   },
   "file_extension": ".py",
   "mimetype": "text/x-python",
   "name": "python",
   "nbconvert_exporter": "python",
   "pygments_lexer": "ipython3",
   "version": "3.12.4"
  }
 },
 "nbformat": 4,
 "nbformat_minor": 5
}
