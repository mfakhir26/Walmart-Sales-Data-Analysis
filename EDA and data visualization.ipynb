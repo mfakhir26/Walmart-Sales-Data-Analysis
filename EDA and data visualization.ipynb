{
 "cells": [
  {
   "cell_type": "markdown",
   "id": "f696dc1e-cbbc-4472-9188-050fb9f80750",
   "metadata": {},
   "source": [
    "## Project Title: Walmart store sales forecasting and holiday impact analysis\n",
    "\n",
    "**Project Objective:**\n",
    "To predict weekly sales at the department level for each Walmart store, while understanding and modeling the impact of holidays and markdown promotions on sales. The ultimate goal is to provide an accurate forecast model that helps Walmart optimize inventory, staffing, and promotions—especially during high-impact holiday periods"
   ]
  },
  {
   "cell_type": "code",
   "execution_count": 2,
   "id": "dcc9b3b8-448d-4353-8638-7d706706e313",
   "metadata": {},
   "outputs": [],
   "source": [
    "# import the libraries\n",
    "import pandas as pd\n",
    "import numpy as np\n",
    "import matplotlib.pyplot as plt\n",
    "import seaborn as sns\n",
    "\n",
    "%matplotlib inline"
   ]
  },
  {
   "cell_type": "code",
   "execution_count": 3,
   "id": "6343c3e8-3ba4-4697-bd7b-98d9d3fe9baf",
   "metadata": {},
   "outputs": [
    {
     "name": "stdout",
     "output_type": "stream",
     "text": [
      "Train Dataset:\n"
     ]
    },
    {
     "data": {
      "text/html": [
       "<div>\n",
       "<style scoped>\n",
       "    .dataframe tbody tr th:only-of-type {\n",
       "        vertical-align: middle;\n",
       "    }\n",
       "\n",
       "    .dataframe tbody tr th {\n",
       "        vertical-align: top;\n",
       "    }\n",
       "\n",
       "    .dataframe thead th {\n",
       "        text-align: right;\n",
       "    }\n",
       "</style>\n",
       "<table border=\"1\" class=\"dataframe\">\n",
       "  <thead>\n",
       "    <tr style=\"text-align: right;\">\n",
       "      <th></th>\n",
       "      <th>Store</th>\n",
       "      <th>Dept</th>\n",
       "      <th>Date</th>\n",
       "      <th>Weekly_Sales</th>\n",
       "      <th>IsHoliday</th>\n",
       "    </tr>\n",
       "  </thead>\n",
       "  <tbody>\n",
       "    <tr>\n",
       "      <th>0</th>\n",
       "      <td>1</td>\n",
       "      <td>1</td>\n",
       "      <td>2010-02-05</td>\n",
       "      <td>24924.50</td>\n",
       "      <td>False</td>\n",
       "    </tr>\n",
       "    <tr>\n",
       "      <th>1</th>\n",
       "      <td>1</td>\n",
       "      <td>1</td>\n",
       "      <td>2010-02-12</td>\n",
       "      <td>46039.49</td>\n",
       "      <td>True</td>\n",
       "    </tr>\n",
       "    <tr>\n",
       "      <th>2</th>\n",
       "      <td>1</td>\n",
       "      <td>1</td>\n",
       "      <td>2010-02-19</td>\n",
       "      <td>41595.55</td>\n",
       "      <td>False</td>\n",
       "    </tr>\n",
       "    <tr>\n",
       "      <th>3</th>\n",
       "      <td>1</td>\n",
       "      <td>1</td>\n",
       "      <td>2010-02-26</td>\n",
       "      <td>19403.54</td>\n",
       "      <td>False</td>\n",
       "    </tr>\n",
       "    <tr>\n",
       "      <th>4</th>\n",
       "      <td>1</td>\n",
       "      <td>1</td>\n",
       "      <td>2010-03-05</td>\n",
       "      <td>21827.90</td>\n",
       "      <td>False</td>\n",
       "    </tr>\n",
       "  </tbody>\n",
       "</table>\n",
       "</div>"
      ],
      "text/plain": [
       "   Store  Dept        Date  Weekly_Sales  IsHoliday\n",
       "0      1     1  2010-02-05      24924.50      False\n",
       "1      1     1  2010-02-12      46039.49       True\n",
       "2      1     1  2010-02-19      41595.55      False\n",
       "3      1     1  2010-02-26      19403.54      False\n",
       "4      1     1  2010-03-05      21827.90      False"
      ]
     },
     "metadata": {},
     "output_type": "display_data"
    },
    {
     "name": "stdout",
     "output_type": "stream",
     "text": [
      "features Dataset:\n"
     ]
    },
    {
     "data": {
      "text/html": [
       "<div>\n",
       "<style scoped>\n",
       "    .dataframe tbody tr th:only-of-type {\n",
       "        vertical-align: middle;\n",
       "    }\n",
       "\n",
       "    .dataframe tbody tr th {\n",
       "        vertical-align: top;\n",
       "    }\n",
       "\n",
       "    .dataframe thead th {\n",
       "        text-align: right;\n",
       "    }\n",
       "</style>\n",
       "<table border=\"1\" class=\"dataframe\">\n",
       "  <thead>\n",
       "    <tr style=\"text-align: right;\">\n",
       "      <th></th>\n",
       "      <th>Store</th>\n",
       "      <th>Date</th>\n",
       "      <th>Temperature</th>\n",
       "      <th>Fuel_Price</th>\n",
       "      <th>MarkDown1</th>\n",
       "      <th>MarkDown2</th>\n",
       "      <th>MarkDown3</th>\n",
       "      <th>MarkDown4</th>\n",
       "      <th>MarkDown5</th>\n",
       "      <th>CPI</th>\n",
       "      <th>Unemployment</th>\n",
       "      <th>IsHoliday</th>\n",
       "    </tr>\n",
       "  </thead>\n",
       "  <tbody>\n",
       "    <tr>\n",
       "      <th>0</th>\n",
       "      <td>1</td>\n",
       "      <td>2010-02-05</td>\n",
       "      <td>42.31</td>\n",
       "      <td>2.572</td>\n",
       "      <td>NaN</td>\n",
       "      <td>NaN</td>\n",
       "      <td>NaN</td>\n",
       "      <td>NaN</td>\n",
       "      <td>NaN</td>\n",
       "      <td>211.096358</td>\n",
       "      <td>8.106</td>\n",
       "      <td>False</td>\n",
       "    </tr>\n",
       "    <tr>\n",
       "      <th>1</th>\n",
       "      <td>1</td>\n",
       "      <td>2010-02-12</td>\n",
       "      <td>38.51</td>\n",
       "      <td>2.548</td>\n",
       "      <td>NaN</td>\n",
       "      <td>NaN</td>\n",
       "      <td>NaN</td>\n",
       "      <td>NaN</td>\n",
       "      <td>NaN</td>\n",
       "      <td>211.242170</td>\n",
       "      <td>8.106</td>\n",
       "      <td>True</td>\n",
       "    </tr>\n",
       "    <tr>\n",
       "      <th>2</th>\n",
       "      <td>1</td>\n",
       "      <td>2010-02-19</td>\n",
       "      <td>39.93</td>\n",
       "      <td>2.514</td>\n",
       "      <td>NaN</td>\n",
       "      <td>NaN</td>\n",
       "      <td>NaN</td>\n",
       "      <td>NaN</td>\n",
       "      <td>NaN</td>\n",
       "      <td>211.289143</td>\n",
       "      <td>8.106</td>\n",
       "      <td>False</td>\n",
       "    </tr>\n",
       "    <tr>\n",
       "      <th>3</th>\n",
       "      <td>1</td>\n",
       "      <td>2010-02-26</td>\n",
       "      <td>46.63</td>\n",
       "      <td>2.561</td>\n",
       "      <td>NaN</td>\n",
       "      <td>NaN</td>\n",
       "      <td>NaN</td>\n",
       "      <td>NaN</td>\n",
       "      <td>NaN</td>\n",
       "      <td>211.319643</td>\n",
       "      <td>8.106</td>\n",
       "      <td>False</td>\n",
       "    </tr>\n",
       "    <tr>\n",
       "      <th>4</th>\n",
       "      <td>1</td>\n",
       "      <td>2010-03-05</td>\n",
       "      <td>46.50</td>\n",
       "      <td>2.625</td>\n",
       "      <td>NaN</td>\n",
       "      <td>NaN</td>\n",
       "      <td>NaN</td>\n",
       "      <td>NaN</td>\n",
       "      <td>NaN</td>\n",
       "      <td>211.350143</td>\n",
       "      <td>8.106</td>\n",
       "      <td>False</td>\n",
       "    </tr>\n",
       "  </tbody>\n",
       "</table>\n",
       "</div>"
      ],
      "text/plain": [
       "   Store        Date  Temperature  Fuel_Price  MarkDown1  MarkDown2  \\\n",
       "0      1  2010-02-05        42.31       2.572        NaN        NaN   \n",
       "1      1  2010-02-12        38.51       2.548        NaN        NaN   \n",
       "2      1  2010-02-19        39.93       2.514        NaN        NaN   \n",
       "3      1  2010-02-26        46.63       2.561        NaN        NaN   \n",
       "4      1  2010-03-05        46.50       2.625        NaN        NaN   \n",
       "\n",
       "   MarkDown3  MarkDown4  MarkDown5         CPI  Unemployment  IsHoliday  \n",
       "0        NaN        NaN        NaN  211.096358         8.106      False  \n",
       "1        NaN        NaN        NaN  211.242170         8.106       True  \n",
       "2        NaN        NaN        NaN  211.289143         8.106      False  \n",
       "3        NaN        NaN        NaN  211.319643         8.106      False  \n",
       "4        NaN        NaN        NaN  211.350143         8.106      False  "
      ]
     },
     "metadata": {},
     "output_type": "display_data"
    },
    {
     "name": "stdout",
     "output_type": "stream",
     "text": [
      "Store Dataset:\n"
     ]
    },
    {
     "data": {
      "text/html": [
       "<div>\n",
       "<style scoped>\n",
       "    .dataframe tbody tr th:only-of-type {\n",
       "        vertical-align: middle;\n",
       "    }\n",
       "\n",
       "    .dataframe tbody tr th {\n",
       "        vertical-align: top;\n",
       "    }\n",
       "\n",
       "    .dataframe thead th {\n",
       "        text-align: right;\n",
       "    }\n",
       "</style>\n",
       "<table border=\"1\" class=\"dataframe\">\n",
       "  <thead>\n",
       "    <tr style=\"text-align: right;\">\n",
       "      <th></th>\n",
       "      <th>Store</th>\n",
       "      <th>Type</th>\n",
       "      <th>Size</th>\n",
       "    </tr>\n",
       "  </thead>\n",
       "  <tbody>\n",
       "    <tr>\n",
       "      <th>0</th>\n",
       "      <td>1</td>\n",
       "      <td>A</td>\n",
       "      <td>151315</td>\n",
       "    </tr>\n",
       "    <tr>\n",
       "      <th>1</th>\n",
       "      <td>2</td>\n",
       "      <td>A</td>\n",
       "      <td>202307</td>\n",
       "    </tr>\n",
       "    <tr>\n",
       "      <th>2</th>\n",
       "      <td>3</td>\n",
       "      <td>B</td>\n",
       "      <td>37392</td>\n",
       "    </tr>\n",
       "    <tr>\n",
       "      <th>3</th>\n",
       "      <td>4</td>\n",
       "      <td>A</td>\n",
       "      <td>205863</td>\n",
       "    </tr>\n",
       "    <tr>\n",
       "      <th>4</th>\n",
       "      <td>5</td>\n",
       "      <td>B</td>\n",
       "      <td>34875</td>\n",
       "    </tr>\n",
       "  </tbody>\n",
       "</table>\n",
       "</div>"
      ],
      "text/plain": [
       "   Store Type    Size\n",
       "0      1    A  151315\n",
       "1      2    A  202307\n",
       "2      3    B   37392\n",
       "3      4    A  205863\n",
       "4      5    B   34875"
      ]
     },
     "metadata": {},
     "output_type": "display_data"
    }
   ],
   "source": [
    "# import datasets\n",
    "train_df = pd.read_csv('train.csv')\n",
    "features_df = pd.read_csv('features.csv')\n",
    "store_df = pd.read_csv('stores.csv')\n",
    "\n",
    "print('Train Dataset:')\n",
    "display(train_df.head())\n",
    "print('features Dataset:')\n",
    "display(features_df.head())\n",
    "print('Store Dataset:')\n",
    "display(store_df.head())"
   ]
  },
  {
   "cell_type": "code",
   "execution_count": 4,
   "id": "90abe204-929c-4c76-9eb4-38bb871231bb",
   "metadata": {},
   "outputs": [
    {
     "name": "stdout",
     "output_type": "stream",
     "text": [
      "(421570, 5)\n",
      "(8190, 12)\n",
      "(45, 3)\n"
     ]
    }
   ],
   "source": [
    "print(train_df.shape)\n",
    "print(features_df.shape)\n",
    "print(store_df.shape)"
   ]
  },
  {
   "cell_type": "markdown",
   "id": "09a1e756-a24f-4617-aae8-d035a13d0c4f",
   "metadata": {},
   "source": [
    "**Store:** The store number\n",
    "\n",
    "**Dept:** The Department number\n",
    "\n",
    "**Date:** The week\n",
    "\n",
    "**Weekly Sales:** The weekly sales for the given department in the given store\n",
    "\n",
    "**Isholiday:** whether the week is a special holiday week\n",
    "\n",
    "**Temperature:** Average Temperature in the region\n",
    "\n",
    "**Fuel_price:** Cost of fuel in the region\n",
    "\n",
    "**MarkDown1-5** - anonymized data related to promotional markdowns that Walmart is running. MarkDown data is only available after Nov 2011, and is not available for all stores all the time. Any missing value is marked with an NA.\n",
    "\n",
    "**CPI:** Consumer Price Index\n",
    "\n",
    "**Unemployment**: Unemployment rate\n",
    "\n",
    "-13\r\n"
   ]
  },
  {
   "cell_type": "markdown",
   "id": "31a11d2e-e83b-4521-aacd-4f3325db1a8a",
   "metadata": {},
   "source": [
    "For convenience, the four holidays fall within the following weeks in the dataset (not all holidays are in the data):\n",
    "\n",
    "\n",
    "Super Bowl: 12-Feb-10, 11-Feb-11, 10-Feb-12, 8-Feb-13\n",
    "\n",
    "\n",
    "Labor Day: 10-Sep-10, 9-Sep-11, 7-Sep-12, 6-Sep-13\n",
    "\n",
    "\n",
    "Thanksgiving: 26-Nov-10, 25-Nov-11, 23-Nov-12, 29-Nov-13\n",
    "\n",
    "\n",
    "Christmas: 31-Dec-10, 30-Dec-11, 28-Dec-12, 27-Dec-13"
   ]
  },
  {
   "cell_type": "markdown",
   "id": "72924570-1985-49fe-a600-64fdbb2614b3",
   "metadata": {},
   "source": [
    "## Exploratory Data Analysis (EDA) and Data Visualization"
   ]
  },
  {
   "cell_type": "code",
   "execution_count": 7,
   "id": "c8001da8-d39e-42b4-a179-c045827ed293",
   "metadata": {},
   "outputs": [],
   "source": [
    "# merge train dataset and features dataset\n",
    "\n",
    "df_1 = pd.merge(train_df, features_df, how = 'left', on = ['Store', 'Date']).drop('IsHoliday_y', axis = 1)\n",
    "df_1.rename(columns = {'IsHoliday_x': 'IsHoliday'}, inplace = True)"
   ]
  },
  {
   "cell_type": "code",
   "execution_count": 8,
   "id": "f3db304a-cd08-4cff-b88d-3c39e6c15943",
   "metadata": {},
   "outputs": [
    {
     "data": {
      "text/html": [
       "<div>\n",
       "<style scoped>\n",
       "    .dataframe tbody tr th:only-of-type {\n",
       "        vertical-align: middle;\n",
       "    }\n",
       "\n",
       "    .dataframe tbody tr th {\n",
       "        vertical-align: top;\n",
       "    }\n",
       "\n",
       "    .dataframe thead th {\n",
       "        text-align: right;\n",
       "    }\n",
       "</style>\n",
       "<table border=\"1\" class=\"dataframe\">\n",
       "  <thead>\n",
       "    <tr style=\"text-align: right;\">\n",
       "      <th></th>\n",
       "      <th>Store</th>\n",
       "      <th>Dept</th>\n",
       "      <th>Date</th>\n",
       "      <th>Weekly_Sales</th>\n",
       "      <th>IsHoliday</th>\n",
       "      <th>Temperature</th>\n",
       "      <th>Fuel_Price</th>\n",
       "      <th>MarkDown1</th>\n",
       "      <th>MarkDown2</th>\n",
       "      <th>MarkDown3</th>\n",
       "      <th>MarkDown4</th>\n",
       "      <th>MarkDown5</th>\n",
       "      <th>CPI</th>\n",
       "      <th>Unemployment</th>\n",
       "    </tr>\n",
       "  </thead>\n",
       "  <tbody>\n",
       "    <tr>\n",
       "      <th>0</th>\n",
       "      <td>1</td>\n",
       "      <td>1</td>\n",
       "      <td>2010-02-05</td>\n",
       "      <td>24924.50</td>\n",
       "      <td>False</td>\n",
       "      <td>42.31</td>\n",
       "      <td>2.572</td>\n",
       "      <td>NaN</td>\n",
       "      <td>NaN</td>\n",
       "      <td>NaN</td>\n",
       "      <td>NaN</td>\n",
       "      <td>NaN</td>\n",
       "      <td>211.096358</td>\n",
       "      <td>8.106</td>\n",
       "    </tr>\n",
       "    <tr>\n",
       "      <th>1</th>\n",
       "      <td>1</td>\n",
       "      <td>1</td>\n",
       "      <td>2010-02-12</td>\n",
       "      <td>46039.49</td>\n",
       "      <td>True</td>\n",
       "      <td>38.51</td>\n",
       "      <td>2.548</td>\n",
       "      <td>NaN</td>\n",
       "      <td>NaN</td>\n",
       "      <td>NaN</td>\n",
       "      <td>NaN</td>\n",
       "      <td>NaN</td>\n",
       "      <td>211.242170</td>\n",
       "      <td>8.106</td>\n",
       "    </tr>\n",
       "    <tr>\n",
       "      <th>2</th>\n",
       "      <td>1</td>\n",
       "      <td>1</td>\n",
       "      <td>2010-02-19</td>\n",
       "      <td>41595.55</td>\n",
       "      <td>False</td>\n",
       "      <td>39.93</td>\n",
       "      <td>2.514</td>\n",
       "      <td>NaN</td>\n",
       "      <td>NaN</td>\n",
       "      <td>NaN</td>\n",
       "      <td>NaN</td>\n",
       "      <td>NaN</td>\n",
       "      <td>211.289143</td>\n",
       "      <td>8.106</td>\n",
       "    </tr>\n",
       "    <tr>\n",
       "      <th>3</th>\n",
       "      <td>1</td>\n",
       "      <td>1</td>\n",
       "      <td>2010-02-26</td>\n",
       "      <td>19403.54</td>\n",
       "      <td>False</td>\n",
       "      <td>46.63</td>\n",
       "      <td>2.561</td>\n",
       "      <td>NaN</td>\n",
       "      <td>NaN</td>\n",
       "      <td>NaN</td>\n",
       "      <td>NaN</td>\n",
       "      <td>NaN</td>\n",
       "      <td>211.319643</td>\n",
       "      <td>8.106</td>\n",
       "    </tr>\n",
       "    <tr>\n",
       "      <th>4</th>\n",
       "      <td>1</td>\n",
       "      <td>1</td>\n",
       "      <td>2010-03-05</td>\n",
       "      <td>21827.90</td>\n",
       "      <td>False</td>\n",
       "      <td>46.50</td>\n",
       "      <td>2.625</td>\n",
       "      <td>NaN</td>\n",
       "      <td>NaN</td>\n",
       "      <td>NaN</td>\n",
       "      <td>NaN</td>\n",
       "      <td>NaN</td>\n",
       "      <td>211.350143</td>\n",
       "      <td>8.106</td>\n",
       "    </tr>\n",
       "  </tbody>\n",
       "</table>\n",
       "</div>"
      ],
      "text/plain": [
       "   Store  Dept        Date  Weekly_Sales  IsHoliday  Temperature  Fuel_Price  \\\n",
       "0      1     1  2010-02-05      24924.50      False        42.31       2.572   \n",
       "1      1     1  2010-02-12      46039.49       True        38.51       2.548   \n",
       "2      1     1  2010-02-19      41595.55      False        39.93       2.514   \n",
       "3      1     1  2010-02-26      19403.54      False        46.63       2.561   \n",
       "4      1     1  2010-03-05      21827.90      False        46.50       2.625   \n",
       "\n",
       "   MarkDown1  MarkDown2  MarkDown3  MarkDown4  MarkDown5         CPI  \\\n",
       "0        NaN        NaN        NaN        NaN        NaN  211.096358   \n",
       "1        NaN        NaN        NaN        NaN        NaN  211.242170   \n",
       "2        NaN        NaN        NaN        NaN        NaN  211.289143   \n",
       "3        NaN        NaN        NaN        NaN        NaN  211.319643   \n",
       "4        NaN        NaN        NaN        NaN        NaN  211.350143   \n",
       "\n",
       "   Unemployment  \n",
       "0         8.106  \n",
       "1         8.106  \n",
       "2         8.106  \n",
       "3         8.106  \n",
       "4         8.106  "
      ]
     },
     "execution_count": 8,
     "metadata": {},
     "output_type": "execute_result"
    }
   ],
   "source": [
    "df_1.head()"
   ]
  },
  {
   "cell_type": "code",
   "execution_count": 9,
   "id": "bdea758c-82f0-483b-a555-95039ae2cc6c",
   "metadata": {},
   "outputs": [
    {
     "data": {
      "text/html": [
       "<div>\n",
       "<style scoped>\n",
       "    .dataframe tbody tr th:only-of-type {\n",
       "        vertical-align: middle;\n",
       "    }\n",
       "\n",
       "    .dataframe tbody tr th {\n",
       "        vertical-align: top;\n",
       "    }\n",
       "\n",
       "    .dataframe thead th {\n",
       "        text-align: right;\n",
       "    }\n",
       "</style>\n",
       "<table border=\"1\" class=\"dataframe\">\n",
       "  <thead>\n",
       "    <tr style=\"text-align: right;\">\n",
       "      <th></th>\n",
       "      <th>Store</th>\n",
       "      <th>Dept</th>\n",
       "      <th>Date</th>\n",
       "      <th>Weekly_Sales</th>\n",
       "      <th>IsHoliday</th>\n",
       "      <th>Temperature</th>\n",
       "      <th>Fuel_Price</th>\n",
       "      <th>MarkDown1</th>\n",
       "      <th>MarkDown2</th>\n",
       "      <th>MarkDown3</th>\n",
       "      <th>MarkDown4</th>\n",
       "      <th>MarkDown5</th>\n",
       "      <th>CPI</th>\n",
       "      <th>Unemployment</th>\n",
       "      <th>Type</th>\n",
       "      <th>Size</th>\n",
       "    </tr>\n",
       "  </thead>\n",
       "  <tbody>\n",
       "    <tr>\n",
       "      <th>0</th>\n",
       "      <td>1</td>\n",
       "      <td>1</td>\n",
       "      <td>2010-02-05</td>\n",
       "      <td>24924.50</td>\n",
       "      <td>False</td>\n",
       "      <td>42.31</td>\n",
       "      <td>2.572</td>\n",
       "      <td>NaN</td>\n",
       "      <td>NaN</td>\n",
       "      <td>NaN</td>\n",
       "      <td>NaN</td>\n",
       "      <td>NaN</td>\n",
       "      <td>211.096358</td>\n",
       "      <td>8.106</td>\n",
       "      <td>A</td>\n",
       "      <td>151315</td>\n",
       "    </tr>\n",
       "    <tr>\n",
       "      <th>1</th>\n",
       "      <td>1</td>\n",
       "      <td>1</td>\n",
       "      <td>2010-02-12</td>\n",
       "      <td>46039.49</td>\n",
       "      <td>True</td>\n",
       "      <td>38.51</td>\n",
       "      <td>2.548</td>\n",
       "      <td>NaN</td>\n",
       "      <td>NaN</td>\n",
       "      <td>NaN</td>\n",
       "      <td>NaN</td>\n",
       "      <td>NaN</td>\n",
       "      <td>211.242170</td>\n",
       "      <td>8.106</td>\n",
       "      <td>A</td>\n",
       "      <td>151315</td>\n",
       "    </tr>\n",
       "    <tr>\n",
       "      <th>2</th>\n",
       "      <td>1</td>\n",
       "      <td>1</td>\n",
       "      <td>2010-02-19</td>\n",
       "      <td>41595.55</td>\n",
       "      <td>False</td>\n",
       "      <td>39.93</td>\n",
       "      <td>2.514</td>\n",
       "      <td>NaN</td>\n",
       "      <td>NaN</td>\n",
       "      <td>NaN</td>\n",
       "      <td>NaN</td>\n",
       "      <td>NaN</td>\n",
       "      <td>211.289143</td>\n",
       "      <td>8.106</td>\n",
       "      <td>A</td>\n",
       "      <td>151315</td>\n",
       "    </tr>\n",
       "    <tr>\n",
       "      <th>3</th>\n",
       "      <td>1</td>\n",
       "      <td>1</td>\n",
       "      <td>2010-02-26</td>\n",
       "      <td>19403.54</td>\n",
       "      <td>False</td>\n",
       "      <td>46.63</td>\n",
       "      <td>2.561</td>\n",
       "      <td>NaN</td>\n",
       "      <td>NaN</td>\n",
       "      <td>NaN</td>\n",
       "      <td>NaN</td>\n",
       "      <td>NaN</td>\n",
       "      <td>211.319643</td>\n",
       "      <td>8.106</td>\n",
       "      <td>A</td>\n",
       "      <td>151315</td>\n",
       "    </tr>\n",
       "    <tr>\n",
       "      <th>4</th>\n",
       "      <td>1</td>\n",
       "      <td>1</td>\n",
       "      <td>2010-03-05</td>\n",
       "      <td>21827.90</td>\n",
       "      <td>False</td>\n",
       "      <td>46.50</td>\n",
       "      <td>2.625</td>\n",
       "      <td>NaN</td>\n",
       "      <td>NaN</td>\n",
       "      <td>NaN</td>\n",
       "      <td>NaN</td>\n",
       "      <td>NaN</td>\n",
       "      <td>211.350143</td>\n",
       "      <td>8.106</td>\n",
       "      <td>A</td>\n",
       "      <td>151315</td>\n",
       "    </tr>\n",
       "  </tbody>\n",
       "</table>\n",
       "</div>"
      ],
      "text/plain": [
       "   Store  Dept        Date  Weekly_Sales  IsHoliday  Temperature  Fuel_Price  \\\n",
       "0      1     1  2010-02-05      24924.50      False        42.31       2.572   \n",
       "1      1     1  2010-02-12      46039.49       True        38.51       2.548   \n",
       "2      1     1  2010-02-19      41595.55      False        39.93       2.514   \n",
       "3      1     1  2010-02-26      19403.54      False        46.63       2.561   \n",
       "4      1     1  2010-03-05      21827.90      False        46.50       2.625   \n",
       "\n",
       "   MarkDown1  MarkDown2  MarkDown3  MarkDown4  MarkDown5         CPI  \\\n",
       "0        NaN        NaN        NaN        NaN        NaN  211.096358   \n",
       "1        NaN        NaN        NaN        NaN        NaN  211.242170   \n",
       "2        NaN        NaN        NaN        NaN        NaN  211.289143   \n",
       "3        NaN        NaN        NaN        NaN        NaN  211.319643   \n",
       "4        NaN        NaN        NaN        NaN        NaN  211.350143   \n",
       "\n",
       "   Unemployment Type    Size  \n",
       "0         8.106    A  151315  \n",
       "1         8.106    A  151315  \n",
       "2         8.106    A  151315  \n",
       "3         8.106    A  151315  \n",
       "4         8.106    A  151315  "
      ]
     },
     "execution_count": 9,
     "metadata": {},
     "output_type": "execute_result"
    }
   ],
   "source": [
    "# Now merge df_1 dataset with the store dataset\n",
    "df = pd.merge(df_1, store_df, on = 'Store', how = 'left')\n",
    "df.head()"
   ]
  },
  {
   "cell_type": "markdown",
   "id": "546b68cf-5bc8-4033-88f8-954bbb271916",
   "metadata": {},
   "source": [
    "Now we will be futher working on this dataset `df`"
   ]
  },
  {
   "cell_type": "code",
   "execution_count": 12,
   "id": "56269cec-ca1f-4d82-8d77-fbf5b1b1632a",
   "metadata": {
    "scrolled": true
   },
   "outputs": [
    {
     "name": "stdout",
     "output_type": "stream",
     "text": [
      "<class 'pandas.core.frame.DataFrame'>\n",
      "RangeIndex: 421570 entries, 0 to 421569\n",
      "Data columns (total 16 columns):\n",
      " #   Column        Non-Null Count   Dtype  \n",
      "---  ------        --------------   -----  \n",
      " 0   Store         421570 non-null  int64  \n",
      " 1   Dept          421570 non-null  int64  \n",
      " 2   Date          421570 non-null  object \n",
      " 3   Weekly_Sales  421570 non-null  float64\n",
      " 4   IsHoliday     421570 non-null  bool   \n",
      " 5   Temperature   421570 non-null  float64\n",
      " 6   Fuel_Price    421570 non-null  float64\n",
      " 7   MarkDown1     150681 non-null  float64\n",
      " 8   MarkDown2     111248 non-null  float64\n",
      " 9   MarkDown3     137091 non-null  float64\n",
      " 10  MarkDown4     134967 non-null  float64\n",
      " 11  MarkDown5     151432 non-null  float64\n",
      " 12  CPI           421570 non-null  float64\n",
      " 13  Unemployment  421570 non-null  float64\n",
      " 14  Type          421570 non-null  object \n",
      " 15  Size          421570 non-null  int64  \n",
      "dtypes: bool(1), float64(10), int64(3), object(2)\n",
      "memory usage: 48.6+ MB\n"
     ]
    }
   ],
   "source": [
    "df.info()"
   ]
  },
  {
   "cell_type": "code",
   "execution_count": 26,
   "id": "4787b81d-b47c-481c-97af-51ce3a40dd1c",
   "metadata": {},
   "outputs": [],
   "source": [
    "# changing date column into datetime format\n",
    "df['Date'] = pd.to_datetime(df['Date'])"
   ]
  },
  {
   "cell_type": "code",
   "execution_count": 34,
   "id": "a10e719b-87af-4fc1-9eb1-2976471be78a",
   "metadata": {},
   "outputs": [],
   "source": [
    "df['IsHoliday'] = df['IsHoliday'].astype('int')"
   ]
  },
  {
   "cell_type": "code",
   "execution_count": 13,
   "id": "accfa1e7-3c02-47e5-ac61-aeb0d1add858",
   "metadata": {},
   "outputs": [
    {
     "data": {
      "text/plain": [
       "Store            0.000000\n",
       "Dept             0.000000\n",
       "Date             0.000000\n",
       "Weekly_Sales     0.000000\n",
       "IsHoliday        0.000000\n",
       "Temperature      0.000000\n",
       "Fuel_Price       0.000000\n",
       "MarkDown1       64.257181\n",
       "MarkDown2       73.611025\n",
       "MarkDown3       67.480845\n",
       "MarkDown4       67.984676\n",
       "MarkDown5       64.079038\n",
       "CPI              0.000000\n",
       "Unemployment     0.000000\n",
       "Type             0.000000\n",
       "Size             0.000000\n",
       "dtype: float64"
      ]
     },
     "execution_count": 13,
     "metadata": {},
     "output_type": "execute_result"
    }
   ],
   "source": [
    "df.isnull().sum() / len(df) * 100"
   ]
  },
  {
   "cell_type": "markdown",
   "id": "867a5659-b006-4a7e-96cf-e7639c50c6ef",
   "metadata": {},
   "source": [
    "we can see that on the average there is 67% missing values in Markdown columns. Since, dropping these values would not be appropriate because if we drop null values we will be dropping 67% dataset. Since, markdown columns simply represents the promotions of different kinds so if there any missing values that is represented by `NA` it simply means that no promotion was applied on that week. So we can simply replace `null` values with `0`"
   ]
  },
  {
   "cell_type": "code",
   "execution_count": 42,
   "id": "4069d020-83ad-4fc6-b498-f9c39a32b4da",
   "metadata": {},
   "outputs": [],
   "source": [
    "df['MarkDown1'] = df['MarkDown1'].fillna(0)\n",
    "df['MarkDown2'] = df['MarkDown2'].fillna(0)\n",
    "df['MarkDown3'] = df['MarkDown3'].fillna(0)\n",
    "df['MarkDown4'] = df['MarkDown4'].fillna(0)\n",
    "df['MarkDown5'] = df['MarkDown5'].fillna(0)"
   ]
  },
  {
   "cell_type": "code",
   "execution_count": 44,
   "id": "2a22a9c7-fea2-4fd4-a227-6ed52e8782bb",
   "metadata": {},
   "outputs": [
    {
     "data": {
      "text/plain": [
       "Store           0\n",
       "Dept            0\n",
       "Date            0\n",
       "Weekly_Sales    0\n",
       "IsHoliday       0\n",
       "Temperature     0\n",
       "Fuel_Price      0\n",
       "MarkDown1       0\n",
       "MarkDown2       0\n",
       "MarkDown3       0\n",
       "MarkDown4       0\n",
       "MarkDown5       0\n",
       "CPI             0\n",
       "Unemployment    0\n",
       "Type            0\n",
       "Size            0\n",
       "dtype: int64"
      ]
     },
     "execution_count": 44,
     "metadata": {},
     "output_type": "execute_result"
    }
   ],
   "source": [
    "df.isnull().sum()"
   ]
  },
  {
   "cell_type": "markdown",
   "id": "69d341d5-fdfa-42aa-afc2-0024f316b016",
   "metadata": {},
   "source": [
    "There are no null values now and all of the null values have been replaced with 0"
   ]
  },
  {
   "cell_type": "code",
   "execution_count": 47,
   "id": "c75d7860-beac-46be-b583-ebbcbbe62b1e",
   "metadata": {},
   "outputs": [
    {
     "data": {
      "text/html": [
       "<div>\n",
       "<style scoped>\n",
       "    .dataframe tbody tr th:only-of-type {\n",
       "        vertical-align: middle;\n",
       "    }\n",
       "\n",
       "    .dataframe tbody tr th {\n",
       "        vertical-align: top;\n",
       "    }\n",
       "\n",
       "    .dataframe thead th {\n",
       "        text-align: right;\n",
       "    }\n",
       "</style>\n",
       "<table border=\"1\" class=\"dataframe\">\n",
       "  <thead>\n",
       "    <tr style=\"text-align: right;\">\n",
       "      <th></th>\n",
       "      <th>Store</th>\n",
       "      <th>Dept</th>\n",
       "      <th>Date</th>\n",
       "      <th>Weekly_Sales</th>\n",
       "      <th>IsHoliday</th>\n",
       "      <th>Temperature</th>\n",
       "      <th>Fuel_Price</th>\n",
       "      <th>MarkDown1</th>\n",
       "      <th>MarkDown2</th>\n",
       "      <th>MarkDown3</th>\n",
       "      <th>MarkDown4</th>\n",
       "      <th>MarkDown5</th>\n",
       "      <th>CPI</th>\n",
       "      <th>Unemployment</th>\n",
       "      <th>Type</th>\n",
       "      <th>Size</th>\n",
       "    </tr>\n",
       "  </thead>\n",
       "  <tbody>\n",
       "    <tr>\n",
       "      <th>0</th>\n",
       "      <td>1</td>\n",
       "      <td>1</td>\n",
       "      <td>2010-02-05</td>\n",
       "      <td>24924.50</td>\n",
       "      <td>0</td>\n",
       "      <td>42.31</td>\n",
       "      <td>2.572</td>\n",
       "      <td>0.0</td>\n",
       "      <td>0.0</td>\n",
       "      <td>0.0</td>\n",
       "      <td>0.0</td>\n",
       "      <td>0.0</td>\n",
       "      <td>211.096358</td>\n",
       "      <td>8.106</td>\n",
       "      <td>A</td>\n",
       "      <td>151315</td>\n",
       "    </tr>\n",
       "    <tr>\n",
       "      <th>1</th>\n",
       "      <td>1</td>\n",
       "      <td>1</td>\n",
       "      <td>2010-02-12</td>\n",
       "      <td>46039.49</td>\n",
       "      <td>1</td>\n",
       "      <td>38.51</td>\n",
       "      <td>2.548</td>\n",
       "      <td>0.0</td>\n",
       "      <td>0.0</td>\n",
       "      <td>0.0</td>\n",
       "      <td>0.0</td>\n",
       "      <td>0.0</td>\n",
       "      <td>211.242170</td>\n",
       "      <td>8.106</td>\n",
       "      <td>A</td>\n",
       "      <td>151315</td>\n",
       "    </tr>\n",
       "    <tr>\n",
       "      <th>2</th>\n",
       "      <td>1</td>\n",
       "      <td>1</td>\n",
       "      <td>2010-02-19</td>\n",
       "      <td>41595.55</td>\n",
       "      <td>0</td>\n",
       "      <td>39.93</td>\n",
       "      <td>2.514</td>\n",
       "      <td>0.0</td>\n",
       "      <td>0.0</td>\n",
       "      <td>0.0</td>\n",
       "      <td>0.0</td>\n",
       "      <td>0.0</td>\n",
       "      <td>211.289143</td>\n",
       "      <td>8.106</td>\n",
       "      <td>A</td>\n",
       "      <td>151315</td>\n",
       "    </tr>\n",
       "    <tr>\n",
       "      <th>3</th>\n",
       "      <td>1</td>\n",
       "      <td>1</td>\n",
       "      <td>2010-02-26</td>\n",
       "      <td>19403.54</td>\n",
       "      <td>0</td>\n",
       "      <td>46.63</td>\n",
       "      <td>2.561</td>\n",
       "      <td>0.0</td>\n",
       "      <td>0.0</td>\n",
       "      <td>0.0</td>\n",
       "      <td>0.0</td>\n",
       "      <td>0.0</td>\n",
       "      <td>211.319643</td>\n",
       "      <td>8.106</td>\n",
       "      <td>A</td>\n",
       "      <td>151315</td>\n",
       "    </tr>\n",
       "    <tr>\n",
       "      <th>4</th>\n",
       "      <td>1</td>\n",
       "      <td>1</td>\n",
       "      <td>2010-03-05</td>\n",
       "      <td>21827.90</td>\n",
       "      <td>0</td>\n",
       "      <td>46.50</td>\n",
       "      <td>2.625</td>\n",
       "      <td>0.0</td>\n",
       "      <td>0.0</td>\n",
       "      <td>0.0</td>\n",
       "      <td>0.0</td>\n",
       "      <td>0.0</td>\n",
       "      <td>211.350143</td>\n",
       "      <td>8.106</td>\n",
       "      <td>A</td>\n",
       "      <td>151315</td>\n",
       "    </tr>\n",
       "  </tbody>\n",
       "</table>\n",
       "</div>"
      ],
      "text/plain": [
       "   Store  Dept       Date  Weekly_Sales  IsHoliday  Temperature  Fuel_Price  \\\n",
       "0      1     1 2010-02-05      24924.50          0        42.31       2.572   \n",
       "1      1     1 2010-02-12      46039.49          1        38.51       2.548   \n",
       "2      1     1 2010-02-19      41595.55          0        39.93       2.514   \n",
       "3      1     1 2010-02-26      19403.54          0        46.63       2.561   \n",
       "4      1     1 2010-03-05      21827.90          0        46.50       2.625   \n",
       "\n",
       "   MarkDown1  MarkDown2  MarkDown3  MarkDown4  MarkDown5         CPI  \\\n",
       "0        0.0        0.0        0.0        0.0        0.0  211.096358   \n",
       "1        0.0        0.0        0.0        0.0        0.0  211.242170   \n",
       "2        0.0        0.0        0.0        0.0        0.0  211.289143   \n",
       "3        0.0        0.0        0.0        0.0        0.0  211.319643   \n",
       "4        0.0        0.0        0.0        0.0        0.0  211.350143   \n",
       "\n",
       "   Unemployment Type    Size  \n",
       "0         8.106    A  151315  \n",
       "1         8.106    A  151315  \n",
       "2         8.106    A  151315  \n",
       "3         8.106    A  151315  \n",
       "4         8.106    A  151315  "
      ]
     },
     "execution_count": 47,
     "metadata": {},
     "output_type": "execute_result"
    }
   ],
   "source": [
    "df.head()"
   ]
  },
  {
   "cell_type": "code",
   "execution_count": 49,
   "id": "837d30fd-d8fd-4166-847c-a34f01de3185",
   "metadata": {},
   "outputs": [],
   "source": [
    "# Extract Year\n",
    "df['year'] = df['Date'].dt.year"
   ]
  },
  {
   "cell_type": "code",
   "execution_count": 53,
   "id": "41113665-462c-4dec-8660-96514a426075",
   "metadata": {},
   "outputs": [],
   "source": [
    "# Extract week number\n",
    "df['week'] = df['Date'].dt.isocalendar().week"
   ]
  },
  {
   "cell_type": "code",
   "execution_count": 79,
   "id": "b8c01a6b-19ac-4586-b028-7a562db3ae42",
   "metadata": {},
   "outputs": [],
   "source": [
    "dummies = pd.get_dummies(df['Type'], prefix = 'Type', dtype = 'int')\n",
    "df = pd.concat([df, dummies],axis = 1)"
   ]
  },
  {
   "cell_type": "code",
   "execution_count": 128,
   "id": "63352e01-5f87-4ba5-a160-e0571bd5ffb9",
   "metadata": {
    "scrolled": true
   },
   "outputs": [
    {
     "data": {
      "text/html": [
       "<div>\n",
       "<style scoped>\n",
       "    .dataframe tbody tr th:only-of-type {\n",
       "        vertical-align: middle;\n",
       "    }\n",
       "\n",
       "    .dataframe tbody tr th {\n",
       "        vertical-align: top;\n",
       "    }\n",
       "\n",
       "    .dataframe thead th {\n",
       "        text-align: right;\n",
       "    }\n",
       "</style>\n",
       "<table border=\"1\" class=\"dataframe\">\n",
       "  <thead>\n",
       "    <tr style=\"text-align: right;\">\n",
       "      <th></th>\n",
       "      <th>Store</th>\n",
       "      <th>Dept</th>\n",
       "      <th>Date</th>\n",
       "      <th>Weekly_Sales</th>\n",
       "      <th>IsHoliday</th>\n",
       "      <th>Temperature</th>\n",
       "      <th>Fuel_Price</th>\n",
       "      <th>MarkDown1</th>\n",
       "      <th>MarkDown2</th>\n",
       "      <th>MarkDown3</th>\n",
       "      <th>MarkDown4</th>\n",
       "      <th>MarkDown5</th>\n",
       "      <th>CPI</th>\n",
       "      <th>Unemployment</th>\n",
       "      <th>Size</th>\n",
       "      <th>year</th>\n",
       "      <th>week</th>\n",
       "      <th>Type_A</th>\n",
       "      <th>Type_B</th>\n",
       "      <th>Type_C</th>\n",
       "    </tr>\n",
       "  </thead>\n",
       "  <tbody>\n",
       "    <tr>\n",
       "      <th>count</th>\n",
       "      <td>421570.000000</td>\n",
       "      <td>421570.000000</td>\n",
       "      <td>421570</td>\n",
       "      <td>421570.000000</td>\n",
       "      <td>421570.000000</td>\n",
       "      <td>421570.000000</td>\n",
       "      <td>421570.000000</td>\n",
       "      <td>421570.000000</td>\n",
       "      <td>421570.000000</td>\n",
       "      <td>421570.000000</td>\n",
       "      <td>421570.000000</td>\n",
       "      <td>421570.000000</td>\n",
       "      <td>421570.000000</td>\n",
       "      <td>421570.000000</td>\n",
       "      <td>421570.000000</td>\n",
       "      <td>421570.000000</td>\n",
       "      <td>421570.0</td>\n",
       "      <td>421570.000000</td>\n",
       "      <td>421570.000000</td>\n",
       "      <td>421570.000000</td>\n",
       "    </tr>\n",
       "    <tr>\n",
       "      <th>mean</th>\n",
       "      <td>22.200546</td>\n",
       "      <td>44.260317</td>\n",
       "      <td>2011-06-18 08:30:31.963375104</td>\n",
       "      <td>15981.258123</td>\n",
       "      <td>0.070358</td>\n",
       "      <td>60.090059</td>\n",
       "      <td>3.361027</td>\n",
       "      <td>2590.074819</td>\n",
       "      <td>879.974298</td>\n",
       "      <td>468.087665</td>\n",
       "      <td>1083.132268</td>\n",
       "      <td>1662.772385</td>\n",
       "      <td>171.201947</td>\n",
       "      <td>7.960289</td>\n",
       "      <td>136727.915739</td>\n",
       "      <td>2010.968591</td>\n",
       "      <td>25.826762</td>\n",
       "      <td>0.511132</td>\n",
       "      <td>0.387824</td>\n",
       "      <td>0.101044</td>\n",
       "    </tr>\n",
       "    <tr>\n",
       "      <th>min</th>\n",
       "      <td>1.000000</td>\n",
       "      <td>1.000000</td>\n",
       "      <td>2010-02-05 00:00:00</td>\n",
       "      <td>-4988.940000</td>\n",
       "      <td>0.000000</td>\n",
       "      <td>-2.060000</td>\n",
       "      <td>2.472000</td>\n",
       "      <td>0.000000</td>\n",
       "      <td>-265.760000</td>\n",
       "      <td>-29.100000</td>\n",
       "      <td>0.000000</td>\n",
       "      <td>0.000000</td>\n",
       "      <td>126.064000</td>\n",
       "      <td>3.879000</td>\n",
       "      <td>34875.000000</td>\n",
       "      <td>2010.000000</td>\n",
       "      <td>1.0</td>\n",
       "      <td>0.000000</td>\n",
       "      <td>0.000000</td>\n",
       "      <td>0.000000</td>\n",
       "    </tr>\n",
       "    <tr>\n",
       "      <th>25%</th>\n",
       "      <td>11.000000</td>\n",
       "      <td>18.000000</td>\n",
       "      <td>2010-10-08 00:00:00</td>\n",
       "      <td>2079.650000</td>\n",
       "      <td>0.000000</td>\n",
       "      <td>46.680000</td>\n",
       "      <td>2.933000</td>\n",
       "      <td>0.000000</td>\n",
       "      <td>0.000000</td>\n",
       "      <td>0.000000</td>\n",
       "      <td>0.000000</td>\n",
       "      <td>0.000000</td>\n",
       "      <td>132.022667</td>\n",
       "      <td>6.891000</td>\n",
       "      <td>93638.000000</td>\n",
       "      <td>2010.000000</td>\n",
       "      <td>14.0</td>\n",
       "      <td>0.000000</td>\n",
       "      <td>0.000000</td>\n",
       "      <td>0.000000</td>\n",
       "    </tr>\n",
       "    <tr>\n",
       "      <th>50%</th>\n",
       "      <td>22.000000</td>\n",
       "      <td>37.000000</td>\n",
       "      <td>2011-06-17 00:00:00</td>\n",
       "      <td>7612.030000</td>\n",
       "      <td>0.000000</td>\n",
       "      <td>62.090000</td>\n",
       "      <td>3.452000</td>\n",
       "      <td>0.000000</td>\n",
       "      <td>0.000000</td>\n",
       "      <td>0.000000</td>\n",
       "      <td>0.000000</td>\n",
       "      <td>0.000000</td>\n",
       "      <td>182.318780</td>\n",
       "      <td>7.866000</td>\n",
       "      <td>140167.000000</td>\n",
       "      <td>2011.000000</td>\n",
       "      <td>26.0</td>\n",
       "      <td>1.000000</td>\n",
       "      <td>0.000000</td>\n",
       "      <td>0.000000</td>\n",
       "    </tr>\n",
       "    <tr>\n",
       "      <th>75%</th>\n",
       "      <td>33.000000</td>\n",
       "      <td>74.000000</td>\n",
       "      <td>2012-02-24 00:00:00</td>\n",
       "      <td>20205.852500</td>\n",
       "      <td>0.000000</td>\n",
       "      <td>74.280000</td>\n",
       "      <td>3.738000</td>\n",
       "      <td>2809.050000</td>\n",
       "      <td>2.200000</td>\n",
       "      <td>4.540000</td>\n",
       "      <td>425.290000</td>\n",
       "      <td>2168.040000</td>\n",
       "      <td>212.416993</td>\n",
       "      <td>8.572000</td>\n",
       "      <td>202505.000000</td>\n",
       "      <td>2012.000000</td>\n",
       "      <td>38.0</td>\n",
       "      <td>1.000000</td>\n",
       "      <td>1.000000</td>\n",
       "      <td>0.000000</td>\n",
       "    </tr>\n",
       "    <tr>\n",
       "      <th>max</th>\n",
       "      <td>45.000000</td>\n",
       "      <td>99.000000</td>\n",
       "      <td>2012-10-26 00:00:00</td>\n",
       "      <td>693099.360000</td>\n",
       "      <td>1.000000</td>\n",
       "      <td>100.140000</td>\n",
       "      <td>4.468000</td>\n",
       "      <td>88646.760000</td>\n",
       "      <td>104519.540000</td>\n",
       "      <td>141630.610000</td>\n",
       "      <td>67474.850000</td>\n",
       "      <td>108519.280000</td>\n",
       "      <td>227.232807</td>\n",
       "      <td>14.313000</td>\n",
       "      <td>219622.000000</td>\n",
       "      <td>2012.000000</td>\n",
       "      <td>52.0</td>\n",
       "      <td>1.000000</td>\n",
       "      <td>1.000000</td>\n",
       "      <td>1.000000</td>\n",
       "    </tr>\n",
       "    <tr>\n",
       "      <th>std</th>\n",
       "      <td>12.785297</td>\n",
       "      <td>30.492054</td>\n",
       "      <td>NaN</td>\n",
       "      <td>22711.183519</td>\n",
       "      <td>0.255750</td>\n",
       "      <td>18.447931</td>\n",
       "      <td>0.458515</td>\n",
       "      <td>6052.385934</td>\n",
       "      <td>5084.538801</td>\n",
       "      <td>5528.873453</td>\n",
       "      <td>3894.529945</td>\n",
       "      <td>4207.629321</td>\n",
       "      <td>39.159276</td>\n",
       "      <td>1.863296</td>\n",
       "      <td>60980.583328</td>\n",
       "      <td>0.796876</td>\n",
       "      <td>14.151887</td>\n",
       "      <td>0.499877</td>\n",
       "      <td>0.487255</td>\n",
       "      <td>0.301387</td>\n",
       "    </tr>\n",
       "  </tbody>\n",
       "</table>\n",
       "</div>"
      ],
      "text/plain": [
       "               Store           Dept                           Date  \\\n",
       "count  421570.000000  421570.000000                         421570   \n",
       "mean       22.200546      44.260317  2011-06-18 08:30:31.963375104   \n",
       "min         1.000000       1.000000            2010-02-05 00:00:00   \n",
       "25%        11.000000      18.000000            2010-10-08 00:00:00   \n",
       "50%        22.000000      37.000000            2011-06-17 00:00:00   \n",
       "75%        33.000000      74.000000            2012-02-24 00:00:00   \n",
       "max        45.000000      99.000000            2012-10-26 00:00:00   \n",
       "std        12.785297      30.492054                            NaN   \n",
       "\n",
       "        Weekly_Sales      IsHoliday    Temperature     Fuel_Price  \\\n",
       "count  421570.000000  421570.000000  421570.000000  421570.000000   \n",
       "mean    15981.258123       0.070358      60.090059       3.361027   \n",
       "min     -4988.940000       0.000000      -2.060000       2.472000   \n",
       "25%      2079.650000       0.000000      46.680000       2.933000   \n",
       "50%      7612.030000       0.000000      62.090000       3.452000   \n",
       "75%     20205.852500       0.000000      74.280000       3.738000   \n",
       "max    693099.360000       1.000000     100.140000       4.468000   \n",
       "std     22711.183519       0.255750      18.447931       0.458515   \n",
       "\n",
       "           MarkDown1      MarkDown2      MarkDown3      MarkDown4  \\\n",
       "count  421570.000000  421570.000000  421570.000000  421570.000000   \n",
       "mean     2590.074819     879.974298     468.087665    1083.132268   \n",
       "min         0.000000    -265.760000     -29.100000       0.000000   \n",
       "25%         0.000000       0.000000       0.000000       0.000000   \n",
       "50%         0.000000       0.000000       0.000000       0.000000   \n",
       "75%      2809.050000       2.200000       4.540000     425.290000   \n",
       "max     88646.760000  104519.540000  141630.610000   67474.850000   \n",
       "std      6052.385934    5084.538801    5528.873453    3894.529945   \n",
       "\n",
       "           MarkDown5            CPI   Unemployment           Size  \\\n",
       "count  421570.000000  421570.000000  421570.000000  421570.000000   \n",
       "mean     1662.772385     171.201947       7.960289  136727.915739   \n",
       "min         0.000000     126.064000       3.879000   34875.000000   \n",
       "25%         0.000000     132.022667       6.891000   93638.000000   \n",
       "50%         0.000000     182.318780       7.866000  140167.000000   \n",
       "75%      2168.040000     212.416993       8.572000  202505.000000   \n",
       "max    108519.280000     227.232807      14.313000  219622.000000   \n",
       "std      4207.629321      39.159276       1.863296   60980.583328   \n",
       "\n",
       "                year       week         Type_A         Type_B         Type_C  \n",
       "count  421570.000000   421570.0  421570.000000  421570.000000  421570.000000  \n",
       "mean     2010.968591  25.826762       0.511132       0.387824       0.101044  \n",
       "min      2010.000000        1.0       0.000000       0.000000       0.000000  \n",
       "25%      2010.000000       14.0       0.000000       0.000000       0.000000  \n",
       "50%      2011.000000       26.0       1.000000       0.000000       0.000000  \n",
       "75%      2012.000000       38.0       1.000000       1.000000       0.000000  \n",
       "max      2012.000000       52.0       1.000000       1.000000       1.000000  \n",
       "std         0.796876  14.151887       0.499877       0.487255       0.301387  "
      ]
     },
     "execution_count": 128,
     "metadata": {},
     "output_type": "execute_result"
    }
   ],
   "source": [
    "df.describe()"
   ]
  },
  {
   "cell_type": "markdown",
   "id": "f7156cc6-4a66-498b-b0a7-421e1fe3a9e2",
   "metadata": {},
   "source": [
    "There are some anomalies in the data because weekly sales can't be negative and the minimum value is negative and similarly in markdown column we see negative value. We will check these anomalies (outliers) by constructing boxplots"
   ]
  },
  {
   "cell_type": "code",
   "execution_count": 131,
   "id": "35d93fbb-0c53-4fa8-952b-f1b77a785eac",
   "metadata": {},
   "outputs": [
    {
     "data": {
      "image/png": "[encoded data removed]",
      "text/plain": [
       "<Figure size 640x480 with 1 Axes>"
      ]
     },
     "metadata": {},
     "output_type": "display_data"
    }
   ],
   "source": [
    "sns.boxplot(df['Weekly_Sales'])\n",
    "plt.show()"
   ]
  },
  {
   "cell_type": "markdown",
   "id": "ed6daf9a-0d12-4d82-a48e-f041eb044237",
   "metadata": {},
   "source": [
    "we see so many outliers in our column weekly sales but if we think critically then we should not remove these outliers because they are actual weekly sales and the negative value that was minimum is not an anomaly otherwise it would have been shown below the lower quantile."
   ]
  },
  {
   "cell_type": "code",
   "execution_count": 134,
   "id": "f9e78b71-76c1-4767-a4b6-898f9c91db01",
   "metadata": {},
   "outputs": [
    {
     "data": {
      "image/png": "[encoded data removed]",
      "text/plain": [
       "<Figure size 640x480 with 1 Axes>"
      ]
     },
     "metadata": {},
     "output_type": "display_data"
    }
   ],
   "source": [
    "sns.boxplot(df['Temperature'])\n",
    "plt.show()"
   ]
  },
  {
   "cell_type": "markdown",
   "id": "4c5b40b5-66b5-4899-ad65-0873098275c5",
   "metadata": {},
   "source": [
    "we can see outliers in `Temperature` feature and replacing them with lower bound value would be appropriate here"
   ]
  },
  {
   "cell_type": "code",
   "execution_count": 144,
   "id": "c1c1ae47-4392-4d86-888a-0ca1a450f373",
   "metadata": {},
   "outputs": [],
   "source": [
    "q1 = df['Temperature'].quantile(0.25)\n",
    "q3 = df['Temperature'].quantile(0.75)\n",
    "\n",
    "IQR = q3 - q1\n",
    "lower_bound = q1 - (1.5 * IQR)\n",
    "upper_bound = q3 + (1.5 * IQR)\n",
    "\n",
    "df['Temperature'] = np.where(df['Temperature'] < lower_bound, lower_bound,\n",
    "                           np.where(df['Temperature'] > upper_bound, upper_bound, df['Temperature']))"
   ]
  },
  {
   "cell_type": "code",
   "execution_count": 148,
   "id": "f78d8fda-de88-4b12-b5f6-4dfd2ce45528",
   "metadata": {},
   "outputs": [
    {
     "data": {
      "image/png": "[encoded data removed]",
      "text/plain": [
       "<Figure size 640x480 with 1 Axes>"
      ]
     },
     "metadata": {},
     "output_type": "display_data"
    }
   ],
   "source": [
    "sns.boxplot(df['Temperature'])\n",
    "plt.show()"
   ]
  },
  {
   "cell_type": "markdown",
   "id": "d0c8c1b7-b410-4382-b184-a78379e78d7d",
   "metadata": {},
   "source": [
    "Outliers have been replaced"
   ]
  },
  {
   "cell_type": "code",
   "execution_count": 161,
   "id": "49b08470-05da-4729-96af-ee3b92c7bb2d",
   "metadata": {},
   "outputs": [
    {
     "data": {
      "image/png": "[encoded data removed]",
      "text/plain": [
       "<Figure size 640x480 with 1 Axes>"
      ]
     },
     "metadata": {},
     "output_type": "display_data"
    }
   ],
   "source": [
    "sns.boxplot(df['Unemployment'])\n",
    "plt.show()"
   ]
  },
  {
   "cell_type": "markdown",
   "id": "0da4f83d-ed2f-488a-9a65-2e85044a7820",
   "metadata": {},
   "source": [
    "Let's fix outliers in `Unemployment` feature"
   ]
  },
  {
   "cell_type": "code",
   "execution_count": 169,
   "id": "deffade7-e9cc-4828-a62f-4a7320959d68",
   "metadata": {},
   "outputs": [],
   "source": [
    "q1 = df['Unemployment'].quantile(0.25)\n",
    "q3 = df['Unemployment'].quantile(0.75)\n",
    "\n",
    "IQR = q3 - q1\n",
    "lower_bound = q1 - (1.5 * IQR)\n",
    "upper_bound = q3 + (1.5 * IQR)\n",
    "\n",
    "# replace outliers with lower bound and upper bound values\n",
    "df['Unemployment'] = np.where(df['Unemployment'] < lower_bound, lower_bound,\n",
    "                           np.where(df['Unemployment'] > upper_bound, upper_bound, df['Unemployment']))"
   ]
  },
  {
   "cell_type": "code",
   "execution_count": 166,
   "id": "4ada2e20-5da4-4b24-8fde-1c0618e341d3",
   "metadata": {},
   "outputs": [
    {
     "data": {
      "image/png": "[encoded data removed]",
      "text/plain": [
       "<Figure size 640x480 with 1 Axes>"
      ]
     },
     "metadata": {},
     "output_type": "display_data"
    }
   ],
   "source": [
    "sns.boxplot(df['Unemployment'])\n",
    "plt.show()"
   ]
  },
  {
   "cell_type": "markdown",
   "id": "51ded408-46a6-4502-892f-b452f0737301",
   "metadata": {
    "jp-MarkdownHeadingCollapsed": true
   },
   "source": [
    "All Outliers have been fixed. Let's move further...\n",
    "\n",
    "Let's have a look at the distribution of features. Why it is important? Because whenever we try to build a regression model then there is assumption of normality of the features and the features should not be much skewed."
   ]
  },
  {
   "cell_type": "code",
   "execution_count": 254,
   "id": "c4922d25-ea06-49df-b177-e373b3b8c2df",
   "metadata": {},
   "outputs": [
    {
     "data": {
      "image/png": "[encoded data removed]",
      "text/plain": [
       "<Figure size 600x500 with 1 Axes>"
      ]
     },
     "metadata": {},
     "output_type": "display_data"
    }
   ],
   "source": [
    "plt.figure(figsize = (6,5))\n",
    "plt.hist(df['Weekly_Sales'], bins = 50)\n",
    "plt.title('The distribution of Weekly sales')\n",
    "plt.show()"
   ]
  },
  {
   "cell_type": "code",
   "execution_count": 193,
   "id": "a0576d0d-e549-4607-93a2-ce4a53ec0b91",
   "metadata": {},
   "outputs": [
    {
     "data": {
      "image/png": "[encoded data removed]",
      "text/plain": [
       "<Figure size 600x500 with 1 Axes>"
      ]
     },
     "metadata": {},
     "output_type": "display_data"
    }
   ],
   "source": [
    "plt.figure(figsize = (6,5))\n",
    "plt.hist(df['Temperature'], bins = 20)\n",
    "plt.title('The distribution of Temperature')\n",
    "plt.show()"
   ]
  },
  {
   "cell_type": "markdown",
   "id": "cf662f79-05d6-48e7-805f-e88f22c58f46",
   "metadata": {},
   "source": [
    "The distribution of feature `Temperature` doesn't seem much skewed and can work perfectly fine."
   ]
  },
  {
   "cell_type": "code",
   "execution_count": 198,
   "id": "8ce0ec20-31e0-4a51-baa9-438136433ddb",
   "metadata": {},
   "outputs": [
    {
     "data": {
      "image/png": "[encoded data removed]",
      "text/plain": [
       "<Figure size 600x500 with 1 Axes>"
      ]
     },
     "metadata": {},
     "output_type": "display_data"
    }
   ],
   "source": [
    "plt.figure(figsize = (6,5))\n",
    "plt.hist(df['Fuel_Price'], bins = 20)\n",
    "plt.title('The distribution of Fuel_Price')\n",
    "plt.show()"
   ]
  },
  {
   "cell_type": "markdown",
   "id": "66f6b57f-28e6-44b7-8005-a88fdf4da8ad",
   "metadata": {},
   "source": [
    "The distribution is not highly skewed and can work perfectly fine."
   ]
  },
  {
   "cell_type": "code",
   "execution_count": 221,
   "id": "bba82f06-a4ca-4f2b-9969-c1f594e24519",
   "metadata": {},
   "outputs": [
    {
     "data": {
      "image/png": "[encoded data removed]",
      "text/plain": [
       "<Figure size 600x500 with 1 Axes>"
      ]
     },
     "metadata": {},
     "output_type": "display_data"
    }
   ],
   "source": [
    "plt.figure(figsize = (6,5))\n",
    "plt.hist(df['MarkDown1'], bins = 20)\n",
    "plt.title('The distribution of MarkDown1')\n",
    "plt.show()"
   ]
  },
  {
   "cell_type": "markdown",
   "id": "782178d8-59dd-4787-ae40-8c145b3ceab9",
   "metadata": {},
   "source": [
    "Distribution of Markdown 1 is postive-skewed and we might transform this variable when we will start doing feature engineering"
   ]
  },
  {
   "cell_type": "code",
   "execution_count": 229,
   "id": "4bf76a41-182e-4b06-be6d-723b081380bd",
   "metadata": {},
   "outputs": [
    {
     "data": {
      "image/png": "[encoded data removed]",
      "text/plain": [
       "<Figure size 600x500 with 1 Axes>"
      ]
     },
     "metadata": {},
     "output_type": "display_data"
    }
   ],
   "source": [
    "plt.figure(figsize = (6,5))\n",
    "plt.hist(df['MarkDown2'], bins = 20)\n",
    "plt.title('The distribution of MarkDown2')\n",
    "plt.show()"
   ]
  },
  {
   "cell_type": "code",
   "execution_count": 231,
   "id": "ab91fa79-6a3e-4dce-8877-b1cbd29ffd71",
   "metadata": {},
   "outputs": [
    {
     "data": {
      "image/png": "[encoded data removed]",
      "text/plain": [
       "<Figure size 600x500 with 1 Axes>"
      ]
     },
     "metadata": {},
     "output_type": "display_data"
    }
   ],
   "source": [
    "plt.figure(figsize = (6,5))\n",
    "plt.hist(df['MarkDown3'], bins = 20)\n",
    "plt.title('The distribution of MarkDown3')\n",
    "plt.show()"
   ]
  },
  {
   "cell_type": "code",
   "execution_count": 235,
   "id": "88692f97-6914-447e-9fd7-82b4644b90dc",
   "metadata": {},
   "outputs": [
    {
     "data": {
      "text/plain": [
       "MarkDown3\n",
       "0.00     284546\n",
       "3.00        754\n",
       "6.00        710\n",
       "2.00        660\n",
       "1.00        611\n",
       "          ...  \n",
       "12.17        45\n",
       "0.76         45\n",
       "26.26        44\n",
       "7.04         44\n",
       "2.62         43\n",
       "Name: count, Length: 1662, dtype: int64"
      ]
     },
     "execution_count": 235,
     "metadata": {},
     "output_type": "execute_result"
    }
   ],
   "source": [
    "df['MarkDown3'].value_counts()"
   ]
  },
  {
   "cell_type": "markdown",
   "id": "7125b300-c84a-4b19-8732-185834d34b06",
   "metadata": {},
   "source": [
    "Most of the values in the markdown3 feature are zeros and it might not contribute to the model significantly so dropping this variable might be suitable but we will keep it for now to see if it contributes to anything else"
   ]
  },
  {
   "cell_type": "code",
   "execution_count": 240,
   "id": "86404fda-fe61-487f-ada6-605eedc4cebe",
   "metadata": {},
   "outputs": [
    {
     "data": {
      "image/png": "[encoded data removed]",
      "text/plain": [
       "<Figure size 600x500 with 1 Axes>"
      ]
     },
     "metadata": {},
     "output_type": "display_data"
    }
   ],
   "source": [
    "plt.figure(figsize = (6,5))\n",
    "plt.hist(df['MarkDown4'], bins = 20)\n",
    "plt.title('The distribution of MarkDown4')\n",
    "plt.show()"
   ]
  },
  {
   "cell_type": "markdown",
   "id": "0ed011ba-b5e3-4155-a797-473223c9a361",
   "metadata": {},
   "source": [
    "The remaining features almost have less skewed distributions so that's why I did not include their graphs. Distributions of those features can be checked similarly as I did above.\n",
    "\n",
    "EDA has been completed so far. Missing values have been handled precisely and anomalies also have been detected and have been fixed and we also have fixed outliers and the distributions of features also have been seen.\n",
    "\n",
    "Let's move further in analysis and explore some trends and patterns in data.\n",
    "\n",
    "___"
   ]
  },
  {
   "cell_type": "code",
   "execution_count": 259,
   "id": "3a915f9e-b0e3-4b70-9e1a-ca349a088985",
   "metadata": {},
   "outputs": [],
   "source": [
    "df.to_excel('cleaned_df.xlsx')"
   ]
  },
  {
   "cell_type": "code",
   "execution_count": null,
   "id": "444173c6-9954-495d-8567-133f02f07f24",
   "metadata": {},
   "outputs": [],
   "source": []
  }
 ],
 "metadata": {
  "kernelspec": {
   "display_name": "Python 3 (ipykernel)",
   "language": "python",
   "name": "python3"
  },
  "language_info": {
   "codemirror_mode": {
    "name": "ipython",
    "version": 3
   },
   "file_extension": ".py",
   "mimetype": "text/x-python",
   "name": "python",
   "nbconvert_exporter": "python",
   "pygments_lexer": "ipython3",
   "version": "3.12.4"
  }
 },
 "nbformat": 4,
 "nbformat_minor": 5
}
